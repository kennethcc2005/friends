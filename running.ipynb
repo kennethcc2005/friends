{
 "cells": [
  {
   "cell_type": "code",
   "execution_count": 1,
   "metadata": {
    "collapsed": false
   },
   "outputs": [],
   "source": [
    "# import psycopg2\n",
    "\n",
    "# conn_str = \"dbname='travel_with_friends' user='Gon' host='localhost'\"\n",
    "\n",
    "# conn = psycopg2.connect(conn_str)\n",
    "# cur = conn.cursor()\n",
    "# cur.execute(\"select state, city from county_table;\")\n",
    "# c = cur.fetchall()"
   ]
  },
  {
   "cell_type": "code",
   "execution_count": 2,
   "metadata": {
    "collapsed": false
   },
   "outputs": [
    {
     "name": "stdout",
     "output_type": "stream",
     "text": [
      "New York, NEW YORK already in database\n",
      "New York, NEW YORK already in database\n",
      "New York, NEW YORK already in database\n",
      "Grand Central Terminal St. Patrick's Cathedral\n",
      "5.0000013.0\n"
     ]
    },
    {
     "ename": "ProgrammingError",
     "evalue": "syntax error at or near \"s\"\nLINE 1: ...s=Grand+Central+Terminal&destinations=St.+Patrick's+Cathedra...\n                                                             ^\n",
     "output_type": "error",
     "traceback": [
      "\u001b[0;31m---------------------------------------------------------------------------\u001b[0m",
      "\u001b[0;31mProgrammingError\u001b[0m                          Traceback (most recent call last)",
      "\u001b[0;32m<ipython-input-2-a52f6c76ce56>\u001b[0m in \u001b[0;36m<module>\u001b[0;34m()\u001b[0m\n\u001b[1;32m      4\u001b[0m \u001b[0mn_days\u001b[0m \u001b[0;34m=\u001b[0m \u001b[0;34m[\u001b[0m\u001b[0;36m1\u001b[0m\u001b[0;34m,\u001b[0m\u001b[0;36m2\u001b[0m\u001b[0;34m,\u001b[0m\u001b[0;36m3\u001b[0m\u001b[0;34m,\u001b[0m\u001b[0;36m4\u001b[0m\u001b[0;34m,\u001b[0m\u001b[0;36m5\u001b[0m\u001b[0;34m]\u001b[0m\u001b[0;34m\u001b[0m\u001b[0m\n\u001b[1;32m      5\u001b[0m \u001b[0;32mfor\u001b[0m \u001b[0mday\u001b[0m \u001b[0;32min\u001b[0m \u001b[0mn_days\u001b[0m\u001b[0;34m:\u001b[0m\u001b[0;34m\u001b[0m\u001b[0m\n\u001b[0;32m----> 6\u001b[0;31m     \u001b[0mtrip\u001b[0m\u001b[0;34m.\u001b[0m\u001b[0mget_fulltrip_data\u001b[0m\u001b[0;34m(\u001b[0m\u001b[0mstate\u001b[0m\u001b[0;34m,\u001b[0m \u001b[0mcity\u001b[0m\u001b[0;34m,\u001b[0m \u001b[0mint\u001b[0m\u001b[0;34m(\u001b[0m\u001b[0mday\u001b[0m\u001b[0;34m)\u001b[0m\u001b[0;34m)\u001b[0m\u001b[0;34m\u001b[0m\u001b[0m\n\u001b[0m\u001b[1;32m      7\u001b[0m \u001b[0;34m\u001b[0m\u001b[0m\n",
      "\u001b[0;32m/Users/Gon/Desktop/travel_with_friends/city_trip.pyc\u001b[0m in \u001b[0;36mget_fulltrip_data\u001b[0;34m(state, city, n_days, full_day, regular, debug)\u001b[0m\n\u001b[1;32m     56\u001b[0m             \u001b[0;31m# event_ids, google_ids, name_list, driving_time_list, walking_time_list = \\\u001b[0m\u001b[0;34m\u001b[0m\u001b[0;34m\u001b[0m\u001b[0m\n\u001b[1;32m     57\u001b[0m             \u001b[0mevent_ids\u001b[0m\u001b[0;34m,\u001b[0m \u001b[0mdriving_time_list\u001b[0m\u001b[0;34m,\u001b[0m \u001b[0mwalking_time_list\u001b[0m \u001b[0;34m=\u001b[0m\u001b[0;31m \u001b[0m\u001b[0;31m\\\u001b[0m\u001b[0;34m\u001b[0m\u001b[0m\n\u001b[0;32m---> 58\u001b[0;31m                     \u001b[0mdb_google_driving_walking_time\u001b[0m\u001b[0;34m(\u001b[0m\u001b[0mevent_ids\u001b[0m\u001b[0;34m,\u001b[0m \u001b[0mevent_type\u001b[0m\u001b[0;34m)\u001b[0m\u001b[0;34m\u001b[0m\u001b[0m\n\u001b[0m\u001b[1;32m     59\u001b[0m             \u001b[0;31m# print 'event_ids, google_ids, name_list', event_ids, google_ids, name_list\u001b[0m\u001b[0;34m\u001b[0m\u001b[0;34m\u001b[0m\u001b[0m\n\u001b[1;32m     60\u001b[0m             \u001b[0;31m# print 'driving and walking time list: ', driving_time_list, walking_time_list\u001b[0m\u001b[0;34m\u001b[0m\u001b[0;34m\u001b[0m\u001b[0m\n",
      "\u001b[0;32m/Users/Gon/Desktop/travel_with_friends/helpers.py\u001b[0m in \u001b[0;36mdb_google_driving_walking_time\u001b[0;34m(event_ids, event_type)\u001b[0m\n\u001b[1;32m    293\u001b[0m             cur.execute(\"INSERT INTO google_travel_time_table VALUES (%i, '%s', '%s', '%s', '%s', '%s', '%s', '%s', '%s', '%s','%s', '%s', '%s', '%s', '%s', '%s', %s, %s);\"%(index, id_, orig_name, orig_idx, dest_name, dest_idx, orig_coord_lat, orig_coord_long, dest_coord_lat,\\\n\u001b[1;32m    294\u001b[0m                                    \u001b[0mdest_coord_long\u001b[0m\u001b[0;34m,\u001b[0m \u001b[0morig_coords\u001b[0m\u001b[0;34m,\u001b[0m \u001b[0mdest_coords\u001b[0m\u001b[0;34m,\u001b[0m \u001b[0mgoogle_driving_url\u001b[0m\u001b[0;34m,\u001b[0m \u001b[0mgoogle_walking_url\u001b[0m\u001b[0;34m,\u001b[0m\u001b[0;31m\\\u001b[0m\u001b[0;34m\u001b[0m\u001b[0m\n\u001b[0;32m--> 295\u001b[0;31m                                    str(driving_result), str(walking_result), google_driving_time, google_walking_time))\n\u001b[0m\u001b[1;32m    296\u001b[0m             \u001b[0mconn\u001b[0m\u001b[0;34m.\u001b[0m\u001b[0mcommit\u001b[0m\u001b[0;34m(\u001b[0m\u001b[0;34m)\u001b[0m\u001b[0;34m\u001b[0m\u001b[0m\n\u001b[1;32m    297\u001b[0m             \u001b[0mname_list\u001b[0m\u001b[0;34m.\u001b[0m\u001b[0mappend\u001b[0m\u001b[0;34m(\u001b[0m\u001b[0morig_name\u001b[0m\u001b[0;34m+\u001b[0m\u001b[0;34m\" to \"\u001b[0m\u001b[0;34m+\u001b[0m \u001b[0mdest_name\u001b[0m\u001b[0;34m)\u001b[0m\u001b[0;34m\u001b[0m\u001b[0m\n",
      "\u001b[0;31mProgrammingError\u001b[0m: syntax error at or near \"s\"\nLINE 1: ...s=Grand+Central+Terminal&destinations=St.+Patrick's+Cathedra...\n                                                             ^\n"
     ]
    }
   ],
   "source": [
    "import city_trip as trip\n",
    "state = 'New York'\n",
    "city = 'New York'\n",
    "n_days = [1,2,3,4,5]\n",
    "for day in n_days:\n",
    "    trip.get_fulltrip_data(state, city, int(day))\n",
    "        "
   ]
  },
  {
   "cell_type": "code",
   "execution_count": null,
   "metadata": {
    "collapsed": false,
    "scrolled": false
   },
   "outputs": [],
   "source": [
    "# import city_trip as trip\n",
    "\n",
    "# for x in range(len(c)):\n",
    "#     state, city = c[x]\n",
    "#     if (state == 'Puerto Rico') or (state == 'Virgin Islands'):\n",
    "#         continue\n",
    "#     print c[x]\n",
    "#     n_days = [1,2,3,4,5]\n",
    "#     for day in n_days:\n",
    "#         trip.get_fulltrip_data(state, city, int(day))\n",
    "        \n"
   ]
  }
 ],
 "metadata": {
  "anaconda-cloud": {},
  "kernelspec": {
   "display_name": "Python [conda env:python2]",
   "language": "python",
   "name": "conda-env-python2-py"
  },
  "language_info": {
   "codemirror_mode": {
    "name": "ipython",
    "version": 2
   },
   "file_extension": ".py",
   "mimetype": "text/x-python",
   "name": "python",
   "nbconvert_exporter": "python",
   "pygments_lexer": "ipython2",
   "version": "2.7.12"
  }
 },
 "nbformat": 4,
 "nbformat_minor": 1
}
