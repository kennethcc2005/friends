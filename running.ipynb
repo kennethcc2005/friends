{
 "cells": [
  {
   "cell_type": "code",
   "execution_count": 1,
   "metadata": {
    "collapsed": false
   },
   "outputs": [],
   "source": [
    "# import psycopg2\n",
    "\n",
    "# conn_str = \"dbname='travel_with_friends' user='Gon' host='localhost'\"\n",
    "\n",
    "# conn = psycopg2.connect(conn_str)\n",
    "# cur = conn.cursor()\n",
    "# cur.execute(\"select state, city from county_table;\")\n",
    "# c = cur.fetchall()"
   ]
  },
  {
   "cell_type": "code",
   "execution_count": 2,
   "metadata": {
    "collapsed": false
   },
   "outputs": [
    {
     "name": "stdout",
     "output_type": "stream",
     "text": [
      "Montana, MISSOULA already in database\n",
      "Montana, MISSOULA already in database\n",
      "del [  8542.   8548.   8547.   8543.   8544.  15757.] [8545.0]\n",
      "del [ 8542.  8548.  8547.  8543.  8544.] [8545.0, 15757.0]\n",
      "del [ 8542.  8548.  8547.  8543.] [8545.0, 15757.0, 8544.0]\n",
      "del [ 8542.  8548.  8547.] [8545.0, 15757.0, 8544.0, 8543.0]\n",
      "del [ 15751.  15749.] [8545.0, 15757.0, 8544.0, 8543.0]\n",
      "del [ 15751.] [8545.0, 15757.0, 8544.0, 8543.0]\n",
      "add [ 15730.   8563.  15757.   8545.   8543.   8544.]\n",
      "finish update Montana, MISSOULA into database\n",
      "del [  8542.   8548.   8547.   8543.   8544.  15757.] [8545.0]\n",
      "del [ 8542.  8548.  8547.  8543.  8544.] [8545.0, 15757.0]\n",
      "del [ 8542.  8548.  8547.  8543.] [8545.0, 15757.0, 8544.0]\n",
      "del [ 8542.  8548.  8547.] [8545.0, 15757.0, 8544.0, 8543.0]\n",
      "del [ 15751.] [8545.0, 15757.0, 8544.0, 8543.0]\n",
      "add [ 15730.   8563.  15757.   8545.   8543.   8544.]\n",
      "finish update Montana, MISSOULA into database\n",
      "del [ 8542.  8550.  8545.  8548.  8547.  8543.] [8544.0]\n",
      "del [ 8542.  8550.  8545.  8548.  8547.] [8544.0, 8543.0]\n",
      "del [ 8542.  8550.  8545.  8548.] [8544.0, 8543.0, 8547.0]\n",
      "del [ 8542.  8550.  8545.] [8544.0, 8543.0, 8547.0, 8548.0]\n",
      "del [ 15751.] [8544.0, 8543.0, 8547.0, 8548.0]\n",
      "add [ 15730.   8563.   8548.   8547.   8543.   8544.]\n",
      "finish update Montana, MISSOULA into database\n"
     ]
    }
   ],
   "source": [
    "import city_trip as trip\n",
    "# state = 'Virginia'\n",
    "# city = 'Newport News'\n",
    "state, city = ('Montana', 'Missoula')\n",
    "n_days = [1,2,3,4,5]\n",
    "for day in n_days:\n",
    "    trip.get_fulltrip_data(state, city, int(day))\n",
    "        "
   ]
  },
  {
   "cell_type": "code",
   "execution_count": 3,
   "metadata": {
    "collapsed": false,
    "scrolled": false
   },
   "outputs": [],
   "source": [
    "# import city_trip as trip\n",
    "\n",
    "# for x in range(len(c)):\n",
    "#     state, city = c[x]\n",
    "#     if (state == 'Puerto Rico') or (state == 'Virgin Islands'):\n",
    "#         continue\n",
    "#     print c[x]\n",
    "#     n_days = [1,2,3,4,5]\n",
    "#     for day in n_days:\n",
    "#         trip.get_fulltrip_data(state, city, int(day))\n",
    "# not_visited_poi_lst =[]        \n",
    "# bool(not_visited_poi_lst)"
   ]
  },
  {
   "cell_type": "code",
   "execution_count": 4,
   "metadata": {
    "collapsed": false
   },
   "outputs": [],
   "source": [
    "# import psycopg2\n",
    "\n",
    "# conn_str = \"dbname='travel_with_friends' user='Gon' host='localhost'\"\n",
    "\n",
    "# conn = psycopg2.connect(conn_str)\n",
    "# cur = conn.cursor()\n",
    "# cur.execute(\"select max(index) from full_trip_table;\")\n",
    "# full_trip_index = cur.fetchone()[0]\n",
    "# print full_trip_index\n",
    "# cur.execute(\"select county, state from full_trip_table where index='%s';\"%(432)) \n",
    "# location = cur.fetchone()       \n",
    "# print location\n",
    "# cur.execute(\"select index, county, state, city from county_table where county ='%s' and state='%s';\"%(location[0],location[1]))\n",
    "# index = cur.fetchall()[-1]\n",
    "# print index\n",
    "# print index[0]\n",
    "# conn.close()"
   ]
  },
  {
   "cell_type": "code",
   "execution_count": 5,
   "metadata": {
    "collapsed": false
   },
   "outputs": [
    {
     "name": "stdout",
     "output_type": "stream",
     "text": [
      "INFO: execution time for solving mip (sec) = 0.22976899147\n",
      "INFO: objective = 18.0\n",
      "[(id1, Day1, 0, 6), (id3, Day2, 0, 18), (id2, Day1, 6, 18), (MakeSpan, Day1, 18, 19)]\n"
     ]
    }
   ],
   "source": [
    "from pyschedule import Scenario, solvers, plotters\n",
    "S = Scenario('hello_pyschedule',horizon=30)\n",
    "\n",
    "# Create two resources\n",
    "Day1, Day2 = S.Resource('Day1'), S.Resource('Day2')\n",
    "\n",
    "# Create three tasks with lengths 1,2 and 3\n",
    "id1,id2,id3 = S.Task('id1',6), S.Task('id2',12), S.Task('id3',18)\n",
    "\n",
    "# Assign tasks to resources, either Alice or Bob\n",
    "id1 += Day1\n",
    "id2 += Day1|Day2\n",
    "id3 += Day1|Day2\n",
    "\n",
    "# Solve and print solution\n",
    "S.use_makespan_objective()\n",
    "solvers.mip.solve(S,msg=1)\n",
    "\n",
    "# Print the solution\n",
    "print(S.solution())\n",
    "\n"
   ]
  },
  {
   "cell_type": "code",
   "execution_count": null,
   "metadata": {
    "collapsed": false
   },
   "outputs": [],
   "source": []
  },
  {
   "cell_type": "code",
   "execution_count": null,
   "metadata": {
    "collapsed": true
   },
   "outputs": [],
   "source": []
  }
 ],
 "metadata": {
  "anaconda-cloud": {},
  "kernelspec": {
   "display_name": "Python [conda env:python2]",
   "language": "python",
   "name": "conda-env-python2-py"
  },
  "language_info": {
   "codemirror_mode": {
    "name": "ipython",
    "version": 2
   },
   "file_extension": ".py",
   "mimetype": "text/x-python",
   "name": "python",
   "nbconvert_exporter": "python",
   "pygments_lexer": "ipython2",
   "version": "2.7.12"
  }
 },
 "nbformat": 4,
 "nbformat_minor": 1
}
