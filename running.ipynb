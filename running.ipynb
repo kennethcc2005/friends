{
 "cells": [
  {
   "cell_type": "code",
   "execution_count": 1,
   "metadata": {
    "collapsed": false
   },
   "outputs": [],
   "source": [
    "# import psycopg2\n",
    "\n",
    "# conn_str = \"dbname='travel_with_friends' user='Gon' host='localhost'\"\n",
    "\n",
    "# conn = psycopg2.connect(conn_str)\n",
    "# cur = conn.cursor()\n",
    "# cur.execute(\"select state, city from county_table;\")\n",
    "# c = cur.fetchall()"
   ]
  },
  {
   "cell_type": "code",
   "execution_count": 2,
   "metadata": {
    "collapsed": false
   },
   "outputs": [
    {
     "name": "stdout",
     "output_type": "stream",
     "text": [
      "Virginia, NEWPORT NEWS CITY already in database\n",
      "del last ids\n",
      "finish update Virginia, NEWPORT NEWS CITY into database\n",
      "finish update Virginia, NEWPORT NEWS CITY into database\n",
      "Virginia, NEWPORT NEWS CITY already in database\n",
      "Virginia, NEWPORT NEWS CITY already in database\n"
     ]
    }
   ],
   "source": [
    "import city_trip as trip\n",
    "state = 'Virginia'\n",
    "city = 'Newport News'\n",
    "n_days = [1,2,3,4,5]\n",
    "for day in n_days:\n",
    "    trip.get_fulltrip_data(state, city, int(day))\n",
    "        "
   ]
  },
  {
   "cell_type": "code",
   "execution_count": 3,
   "metadata": {
    "collapsed": false,
    "scrolled": false
   },
   "outputs": [
    {
     "data": {
      "text/plain": [
       "False"
      ]
     },
     "execution_count": 3,
     "metadata": {},
     "output_type": "execute_result"
    }
   ],
   "source": [
    "# import city_trip as trip\n",
    "\n",
    "# for x in range(len(c)):\n",
    "#     state, city = c[x]\n",
    "#     if (state == 'Puerto Rico') or (state == 'Virgin Islands'):\n",
    "#         continue\n",
    "#     print c[x]\n",
    "#     n_days = [1,2,3,4,5]\n",
    "#     for day in n_days:\n",
    "#         trip.get_fulltrip_data(state, city, int(day))\n",
    "not_visited_poi_lst =[]        \n",
    "bool(not_visited_poi_lst)"
   ]
  },
  {
   "cell_type": "code",
   "execution_count": 8,
   "metadata": {
    "collapsed": false
   },
   "outputs": [
    {
     "ename": "ProgrammingError",
     "evalue": "syntax error at or near \"from\"\nLINE 1: select county, state, from full_trip_table limit 5;\n                              ^\n",
     "output_type": "error",
     "traceback": [
      "\u001b[0;31m---------------------------------------------------------------------------\u001b[0m",
      "\u001b[0;31mProgrammingError\u001b[0m                          Traceback (most recent call last)",
      "\u001b[0;32m<ipython-input-8-c02f019d3305>\u001b[0m in \u001b[0;36m<module>\u001b[0;34m()\u001b[0m\n\u001b[1;32m      5\u001b[0m \u001b[0mconn\u001b[0m \u001b[0;34m=\u001b[0m \u001b[0mpsycopg2\u001b[0m\u001b[0;34m.\u001b[0m\u001b[0mconnect\u001b[0m\u001b[0;34m(\u001b[0m\u001b[0mconn_str\u001b[0m\u001b[0;34m)\u001b[0m\u001b[0;34m\u001b[0m\u001b[0m\n\u001b[1;32m      6\u001b[0m \u001b[0mcur\u001b[0m \u001b[0;34m=\u001b[0m \u001b[0mconn\u001b[0m\u001b[0;34m.\u001b[0m\u001b[0mcursor\u001b[0m\u001b[0;34m(\u001b[0m\u001b[0;34m)\u001b[0m\u001b[0;34m\u001b[0m\u001b[0m\n\u001b[0;32m----> 7\u001b[0;31m \u001b[0mcur\u001b[0m\u001b[0;34m.\u001b[0m\u001b[0mexecute\u001b[0m\u001b[0;34m(\u001b[0m\u001b[0;34m\"select county, state, from full_trip_table limit 5;\"\u001b[0m\u001b[0;34m)\u001b[0m\u001b[0;34m\u001b[0m\u001b[0m\n\u001b[0m\u001b[1;32m      8\u001b[0m \u001b[0mdetails\u001b[0m \u001b[0;34m=\u001b[0m \u001b[0mcur\u001b[0m\u001b[0;34m.\u001b[0m\u001b[0mfetchone\u001b[0m\u001b[0;34m(\u001b[0m\u001b[0;34m)\u001b[0m\u001b[0;34m[\u001b[0m\u001b[0;36m0\u001b[0m\u001b[0;34m]\u001b[0m\u001b[0;34m\u001b[0m\u001b[0m\n\u001b[1;32m      9\u001b[0m \u001b[0mconn\u001b[0m\u001b[0;34m.\u001b[0m\u001b[0mclose\u001b[0m\u001b[0;34m(\u001b[0m\u001b[0;34m)\u001b[0m\u001b[0;34m\u001b[0m\u001b[0m\n",
      "\u001b[0;31mProgrammingError\u001b[0m: syntax error at or near \"from\"\nLINE 1: select county, state, from full_trip_table limit 5;\n                              ^\n"
     ]
    }
   ],
   "source": [
    "import psycopg2\n",
    "\n",
    "conn_str = \"dbname='travel_with_friends' user='Gon' host='localhost'\"\n",
    "\n",
    "conn = psycopg2.connect(conn_str)\n",
    "cur = conn.cursor()\n",
    "cur.execute(\"select county, state, from full_trip_table limit 5;\") \n",
    "details = cur.fetchone()[0]        \n",
    "conn.close()"
   ]
  },
  {
   "cell_type": "code",
   "execution_count": 7,
   "metadata": {
    "collapsed": false
   },
   "outputs": [
    {
     "data": {
      "text/plain": [
       "'[\"{\\'address\\': \\'15500 San Pasqual Valley Rd, Escondido, CA 92027, USA\\', \\'id\\': 2259, \\'day\\': 0, \\'name\\': u\\'San Diego Zoo Safari Park\\'}\", \"{\\'address\\': \\'Safari Walk, Escondido, CA 92027, USA\\', \\'id\\': 2260, \\'day\\': 0, \\'name\\': u\\'Meerkat\\'}\", \"{\\'address\\': \\'1999 Citracado Parkway, Escondido, CA 92029, USA\\', \\'id\\': 3486, \\'day\\': 0, \\'name\\': u\\'Stone\\'}\", \"{\\'address\\': \\'1999 Citracado Parkway, Escondido, CA 92029, USA\\', \\'id\\': 3487, \\'day\\': 0, \\'name\\': u\\'Stone Brewery\\'}\", \"{\\'address\\': \\'Mount Woodson Trail, Poway, CA 92064, USA\\', \\'id\\': 4951, \\'day\\': 0, \\'name\\': u\\'Lake Poway\\'}\", \"{\\'address\\': \\'17130 Mt Woodson Rd, Ramona, CA 92065, USA\\', \\'id\\': 4953, \\'day\\': 0, \\'name\\': u\\'Potato Chip Rock\\'}\", \"{\\'address\\': \\'17130 Mt Woodson Rd, Ramona, CA 92065, USA\\', \\'id\\': 4952, \\'day\\': 0, \\'name\\': u\\'Mt. Woodson\\'}\", \"{\\'address\\': \\'1 Legoland Dr, Carlsbad, CA 92008, USA\\', \\'id\\': 2870, \\'day\\': 1, \\'name\\': u\\'Legoland\\'}\", \"{\\'address\\': \\'5754-5780 Paseo Del Norte, Carlsbad, CA 92008, USA\\', \\'id\\': 2871, \\'day\\': 1, \\'name\\': u\\'Carlsbad Flower Fields\\'}\", \"{\\'address\\': \\'211-359 The Strand N, Oceanside, CA 92054, USA\\', \\'id\\': 2089, \\'day\\': 1, \\'name\\': u\\'Oceanside Pier\\'}\", \"{\\'address\\': \\'211-359 The Strand N, Oceanside, CA 92054, USA\\', \\'id\\': 2090, \\'day\\': 1, \\'name\\': u\\'Pier\\'}\", \"{\\'address\\': \\'1016-1024 Neptune Ave, Encinitas, CA 92024, USA\\', \\'id\\': 2872, \\'day\\': 1, \\'name\\': u\\'Encinitas\\'}\", \"{\\'address\\': \\'625 Pan American Rd E, San Diego, CA 92101, USA\\', \\'id\\': 147, \\'day\\': 2, \\'name\\': u\\'Balboa Park\\'}\", \"{\\'address\\': \\'1849-1863 Zoo Pl, San Diego, CA 92101, USA\\', \\'id\\': 152, \\'day\\': 2, \\'name\\': u\\'San Diego Zoo\\'}\", \"{\\'address\\': \\'701-817 Coast Blvd, La Jolla, CA 92037, USA\\', \\'id\\': 148, \\'day\\': 2, \\'name\\': u\\'La Jolla\\'}\", \"{\\'address\\': \\'10051-10057 Pebble Beach Dr, Santee, CA 92071, USA\\', \\'id\\': 4630, \\'day\\': 2, \\'name\\': u\\'Santee Lakes\\'}\", \"{\\'address\\': \\'Lake Murray Bike Path, La Mesa, CA 91942, USA\\', \\'id\\': 4545, \\'day\\': 2, \\'name\\': u\\'Lake Murray\\'}\", \"{\\'address\\': \\'4905 Mt Helix Dr, La Mesa, CA 91941, USA\\', \\'id\\': 4544, \\'day\\': 2, \\'name\\': u\\'Mt. Helix\\'}\", \"{\\'address\\': \\'1720 Melrose Ave, Chula Vista, CA 91911, USA\\', \\'id\\': 1325, \\'day\\': 2, \\'name\\': u\\'Thick-billed Kingbird\\'}\", \"{\\'address\\': \\'711 Basswood Ave, Imperial Beach, CA 91932, USA\\', \\'id\\': 1326, \\'day\\': 2, \\'name\\': u\\'Lesser Sand-Plover\\'}\"]'"
      ]
     },
     "execution_count": 7,
     "metadata": {},
     "output_type": "execute_result"
    }
   ],
   "source": [
    "details"
   ]
  },
  {
   "cell_type": "code",
   "execution_count": null,
   "metadata": {
    "collapsed": true
   },
   "outputs": [],
   "source": []
  }
 ],
 "metadata": {
  "anaconda-cloud": {},
  "kernelspec": {
   "display_name": "Python [conda env:python2]",
   "language": "python",
   "name": "conda-env-python2-py"
  },
  "language_info": {
   "codemirror_mode": {
    "name": "ipython",
    "version": 2
   },
   "file_extension": ".py",
   "mimetype": "text/x-python",
   "name": "python",
   "nbconvert_exporter": "python",
   "pygments_lexer": "ipython2",
   "version": "2.7.12"
  }
 },
 "nbformat": 4,
 "nbformat_minor": 1
}
