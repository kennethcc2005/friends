{
 "cells": [
  {
   "cell_type": "code",
   "execution_count": 1,
   "metadata": {
    "collapsed": false
   },
   "outputs": [],
   "source": [
    "# import psycopg2\n",
    "\n",
    "# conn_str = \"dbname='travel_with_friends' user='Gon' host='localhost'\"\n",
    "\n",
    "# conn = psycopg2.connect(conn_str)\n",
    "# cur = conn.cursor()\n",
    "# cur.execute(\"select state, city from county_table;\")\n",
    "# c = cur.fetchall()"
   ]
  },
  {
   "cell_type": "code",
   "execution_count": 2,
   "metadata": {
    "collapsed": false
   },
   "outputs": [
    {
     "name": "stdout",
     "output_type": "stream",
     "text": [
      "New York, NEW YORK already in database\n",
      "New York, NEW YORK already in database\n",
      "New York, NEW YORK already in database\n",
      "New York, NEW YORK already in database\n",
      "New York, NEW YORK already in database\n"
     ]
    }
   ],
   "source": [
    "import city_trip as trip\n",
    "state = 'New York'\n",
    "city = 'New York'\n",
    "n_days = [1,2,3,4,5]\n",
    "for day in n_days:\n",
    "    trip.get_fulltrip_data(state, city, int(day))\n",
    "        "
   ]
  },
  {
   "cell_type": "code",
   "execution_count": 3,
   "metadata": {
    "collapsed": false,
    "scrolled": false
   },
   "outputs": [],
   "source": [
    "# import city_trip as trip\n",
    "\n",
    "# for x in range(len(c)):\n",
    "#     state, city = c[x]\n",
    "#     if (state == 'Puerto Rico') or (state == 'Virgin Islands'):\n",
    "#         continue\n",
    "#     print c[x]\n",
    "#     n_days = [1,2,3,4,5]\n",
    "#     for day in n_days:\n",
    "#         trip.get_fulltrip_data(state, city, int(day))\n",
    "        \n"
   ]
  }
 ],
 "metadata": {
  "anaconda-cloud": {},
  "kernelspec": {
   "display_name": "Python [conda env:python2]",
   "language": "python",
   "name": "conda-env-python2-py"
  },
  "language_info": {
   "codemirror_mode": {
    "name": "ipython",
    "version": 2
   },
   "file_extension": ".py",
   "mimetype": "text/x-python",
   "name": "python",
   "nbconvert_exporter": "python",
   "pygments_lexer": "ipython2",
   "version": "2.7.12"
  }
 },
 "nbformat": 4,
 "nbformat_minor": 1
}
