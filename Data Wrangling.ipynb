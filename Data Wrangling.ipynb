{
 "cells": [
  {
   "cell_type": "code",
   "execution_count": 198,
   "metadata": {
    "collapsed": false
   },
   "outputs": [],
   "source": [
    "import pandas as pd\n",
    "import time\n",
    "import numpy as np\n",
    "import requests\n",
    "import psycopg2\n",
    "import json\n",
    "import simplejson\n",
    "import urllib\n",
    "import config\n",
    "import ast\n",
    "import bs4\n",
    "from pymongo import MongoClient\n",
    "from geopy.geocoders import Nominatim\n",
    "from bs4 import BeautifulSoup as BS\n",
    "from operator import itemgetter\n",
    "from sklearn.cluster import KMeans\n",
    "from sqlalchemy import create_engine\n"
   ]
  },
  {
   "cell_type": "code",
   "execution_count": 6,
   "metadata": {
    "collapsed": true
   },
   "outputs": [],
   "source": [
    "conn_str = \"dbname='travel_with_friends' user='Gon' host='localhost'\"\n",
    "# conn_str = \"dbname='travel_with_friends' user='Zoesh' host='localhost'\""
   ]
  },
  {
   "cell_type": "code",
   "execution_count": 7,
   "metadata": {
    "collapsed": false
   },
   "outputs": [],
   "source": [
    "conn = psycopg2.connect(conn_str)   \n",
    "cur = conn.cursor()   \n",
    "# cur.execute(\"select index, name, coord0, coord1 from poi_detail_table where city !='%s' and state = '%s';\" %(current_city, current_state))\n",
    "cur.execute(\"select distinct city, state from poi_detail_table;\" )\n",
    "all_cities = cur.fetchall()"
   ]
  },
  {
   "cell_type": "code",
   "execution_count": 40,
   "metadata": {
    "collapsed": false
   },
   "outputs": [
    {
     "data": {
      "text/plain": [
       "'Victoria'"
      ]
     },
     "execution_count": 40,
     "metadata": {},
     "output_type": "execute_result"
    }
   ],
   "source": [
    "all_cities[0][0]"
   ]
  },
  {
   "cell_type": "code",
   "execution_count": 31,
   "metadata": {
    "collapsed": false
   },
   "outputs": [],
   "source": [
    "cities_coords = pd.read_csv('cities_coords.csv', header=None)\n",
    "cities_coords.columns = ['area_code', 'city','state','nation', 'coord0','coord1']\n",
    "cities_coords = cities_coords[['city','state','nation', 'coord0','coord1']].drop_duplicates()\n",
    "cities_coords.reset_index(drop = True, inplace = True)"
   ]
  },
  {
   "cell_type": "code",
   "execution_count": null,
   "metadata": {
    "collapsed": false
   },
   "outputs": [],
   "source": [
    "cities_coords."
   ]
  },
  {
   "cell_type": "code",
   "execution_count": 43,
   "metadata": {
    "collapsed": false
   },
   "outputs": [
    {
     "name": "stderr",
     "output_type": "stream",
     "text": [
      "/Users/Gon/anaconda3/envs/python2/lib/python2.7/site-packages/ipykernel/__main__.py:4: UserWarning: Boolean Series key will be reindexed to match DataFrame index.\n"
     ]
    }
   ],
   "source": [
    "geolocator = Nominatim()\n",
    "\n",
    "for items in all_cities:\n",
    "    if cities_coords[cities_coords['state'] == items[1]][cities_coords.city == items[0]].shape[0] == 0:\n",
    "        location_name = ', '.join([items[0], items[1]])\n",
    "        try:\n",
    "            location = geolocator.geocode(location_name)\n",
    "            cities_coords.loc[len(cities_coords)] = [items[0], items[1], 'US', location.latitude, location.longitude]\n",
    "        except:\n",
    "            \"error, rest\"\n",
    "            time.sleep(20)\n",
    "            print\" start again\"\n",
    "            \n",
    "            \n",
    "#         print cities_coords.loc(len(cities_coords))"
   ]
  },
  {
   "cell_type": "code",
   "execution_count": 44,
   "metadata": {
    "collapsed": true
   },
   "outputs": [],
   "source": [
    "cities_coords.to_csv('all_cities_coords.csv')"
   ]
  },
  {
   "cell_type": "code",
   "execution_count": 50,
   "metadata": {
    "collapsed": false
   },
   "outputs": [],
   "source": [
    "engine = create_engine('postgresql://Gon@localhost:5432/travel_with_friends')\n",
    "cities_coords.to_sql('all_cities_coords',engine, if_exists = \"replace\")"
   ]
  },
  {
   "cell_type": "code",
   "execution_count": 2,
   "metadata": {
    "collapsed": false
   },
   "outputs": [
    {
     "data": {
      "text/plain": [
       "2647"
      ]
     },
     "execution_count": 2,
     "metadata": {},
     "output_type": "execute_result"
    }
   ],
   "source": [
    "client = MongoClient()\n",
    "db = client.zoeshrm\n",
    "db.TripAdvisor_state_park.count()"
   ]
  },
  {
   "cell_type": "code",
   "execution_count": 73,
   "metadata": {
    "collapsed": false
   },
   "outputs": [],
   "source": [
    "a = db.TripAdvisor_state_park.find()\n",
    "bs = BS(a[1]['html'], \"html.parser\")."
   ]
  },
  {
   "cell_type": "code",
   "execution_count": 144,
   "metadata": {
    "collapsed": false
   },
   "outputs": [
    {
     "name": "stdout",
     "output_type": "stream",
     "text": [
      "2\n"
     ]
    }
   ],
   "source": [
    "\n",
    "\n",
    "bs = BS(a[1]['html'], \"html.parser\")\n",
    "\n",
    "\n",
    "len(bs.find('div', attrs = {'class' : \"detail\" }).findAll())\n",
    "# print bs.find('div', attrs = {'class' : \"detail\" })"
   ]
  },
  {
   "cell_type": "code",
   "execution_count": 695,
   "metadata": {
    "collapsed": false
   },
   "outputs": [],
   "source": [
    "htmlurl = 'https://www.tripadvisor.com/Attraction_Review-g35805-d1134861-Reviews-Cloud_Gate-Chicago_Illinois.html'\n",
    "htmlurl = 'https://www.tripadvisor.com/Attraction_Review-g60713-d127854-Reviews-San_Francisco_Zoo-San_Francisco_California.html'\n",
    "htmlurl = 'https://www.tripadvisor.com/Attraction_Review-g60750-d104122-Reviews-San_Diego_Zoo-San_Diego_California.html'\n",
    "htmlurl = 'https://www.tripadvisor.com/Attraction_Review-g60713-d102523-Reviews-Alcatraz_Island-San_Francisco_California.html'\n",
    "headers = {'User-Agent': 'Mozilla/5.0 (Macintosh; Intel Mac OS X 10_10_1) AppleWebKit/537.36 (KHTML, like Gecko) Chrome/39.0.2171.95 Safari/537.36'}\n",
    "\n",
    "r=requests.get(htmlurl,headers=headers)\n",
    "s = BS(r.text, 'html.parser')\n",
    "\n",
    "\n",
    "# for div in s.find('div', attrs = {'class' : \"separator\" }):\n",
    "#     for tag in div.:\n",
    "#         if tag.name == 'div' and tag.get('class', '') == ['detail']:\n",
    "#             print tag.text\n",
    "#     for item in div.contents:\n",
    "# #         print item\n",
    "#         if type(item)== 'bs4.element.Tag' and item.name == \"detail\":\n",
    "#             print 1234567890\n",
    "for div in s.findAll(\"div\", {\"class\": \"separator\"}):\n",
    "    for tag in div.contents:\n",
    "        if isinstance(tag, bs4.element.Tag) and tag.get('class',\"\") == ['detail'] :\n",
    "            tags =  tag.text.encode('utf8').strip()\n"
   ]
  },
  {
   "cell_type": "code",
   "execution_count": null,
   "metadata": {
    "collapsed": false
   },
   "outputs": [],
   "source": []
  },
  {
   "cell_type": "code",
   "execution_count": 517,
   "metadata": {
    "collapsed": false
   },
   "outputs": [],
   "source": [
    "name = s.find('h1', attrs = {'class':'heading_name'}).text.strip()\n",
    "\n",
    "ranking = s.find('b', attrs = {'class':'rank_text wrap'}).text.strip().replace('#',\"\")\n",
    "if None == s.find('div', attrs = {'class': 'heading_rating separator'}).find('img'):\n",
    "    pass\n",
    "review_score = s.find('div', attrs = {'class': 'heading_rating separator'}).find('img').get('content')\n",
    "num_reviews = s.find('div', attrs = {'class': 'rs rating'}).find('a').get('content')\n",
    "\n",
    "street_address = s.find('span', attrs = {'class':'street-address'}).text.strip()\n",
    "city = s.find('span', attrs = {'property':'addressLocality'}).text.strip()\n",
    "state_abb = s.find('span', attrs = {'property':'addressRegion'}).text.strip()\n",
    "postal_code = s.find('span', attrs = {'property':'postalCode'}).text.strip()\n",
    "country = s.find('span', attrs = {'property':'addressCountry'})['content']\n",
    "full_address = street_address+', '+city+', '+state_abb+', '+postal_code\n",
    "\n",
    "# visit_length = s.find('div', attrs ={'class': \"details_wrapper\"}).text.strip().split(':')[-1]\n",
    "visit_length = s.find(text =\"Recommended length of visit:\").parent.next_sibling\n",
    "fee = s.find(text= \"Fee:\").parent.next_sibling\n",
    "description = s.find('div', attrs = {'class': \"listing_details\"}).text.strip()\n"
   ]
  },
  {
   "cell_type": "code",
   "execution_count": 816,
   "metadata": {
    "collapsed": false
   },
   "outputs": [
    {
     "data": {
      "text/html": [
       "<div>\n",
       "<table border=\"1\" class=\"dataframe\">\n",
       "  <thead>\n",
       "    <tr style=\"text-align: right;\">\n",
       "      <th></th>\n",
       "      <th>State</th>\n",
       "      <th>Abbreviation</th>\n",
       "    </tr>\n",
       "  </thead>\n",
       "  <tbody>\n",
       "    <tr>\n",
       "      <th>0</th>\n",
       "      <td>Alabama</td>\n",
       "      <td>AL</td>\n",
       "    </tr>\n",
       "    <tr>\n",
       "      <th>1</th>\n",
       "      <td>Alaska</td>\n",
       "      <td>AK</td>\n",
       "    </tr>\n",
       "    <tr>\n",
       "      <th>2</th>\n",
       "      <td>Arizona</td>\n",
       "      <td>AZ</td>\n",
       "    </tr>\n",
       "    <tr>\n",
       "      <th>3</th>\n",
       "      <td>Arkansas</td>\n",
       "      <td>AR</td>\n",
       "    </tr>\n",
       "    <tr>\n",
       "      <th>4</th>\n",
       "      <td>California</td>\n",
       "      <td>CA</td>\n",
       "    </tr>\n",
       "  </tbody>\n",
       "</table>\n",
       "</div>"
      ],
      "text/plain": [
       "        State Abbreviation\n",
       "0     Alabama           AL\n",
       "1      Alaska           AK\n",
       "2     Arizona           AZ\n",
       "3    Arkansas           AR\n",
       "4  California           CA"
      ]
     },
     "execution_count": 816,
     "metadata": {},
     "output_type": "execute_result"
    }
   ],
   "source": [
    "us_state_abb = pd.read_csv('us_states_abb.csv')\n",
    "us_state_abb.head()"
   ]
  },
  {
   "cell_type": "code",
   "execution_count": 825,
   "metadata": {
    "collapsed": false
   },
   "outputs": [],
   "source": [
    "import us_state_abbrevation as abb\n",
    "state_abb = abb.us_state_abbrev"
   ]
  },
  {
   "cell_type": "code",
   "execution_count": 833,
   "metadata": {
    "collapsed": false
   },
   "outputs": [
    {
     "ename": "TypeError",
     "evalue": "viewitems() takes no arguments (1 given)",
     "output_type": "error",
     "traceback": [
      "\u001b[0;31m---------------------------------------------------------------------------\u001b[0m",
      "\u001b[0;31mTypeError\u001b[0m                                 Traceback (most recent call last)",
      "\u001b[0;32m<ipython-input-833-5f65bb8d9753>\u001b[0m in \u001b[0;36m<module>\u001b[0;34m()\u001b[0m\n\u001b[1;32m      1\u001b[0m \u001b[0mstate_abb\u001b[0m\u001b[0;34m[\u001b[0m\u001b[0;34m'California'\u001b[0m\u001b[0;34m]\u001b[0m\u001b[0;34m\u001b[0m\u001b[0m\n\u001b[0;32m----> 2\u001b[0;31m \u001b[0;32mprint\u001b[0m \u001b[0mstate_abb\u001b[0m\u001b[0;34m.\u001b[0m\u001b[0mviewitems\u001b[0m\u001b[0;34m(\u001b[0m\u001b[0;34m'CA'\u001b[0m\u001b[0;34m)\u001b[0m\u001b[0;34m\u001b[0m\u001b[0m\n\u001b[0m",
      "\u001b[0;31mTypeError\u001b[0m: viewitems() takes no arguments (1 given)"
     ]
    }
   ],
   "source": [
    "state_abb['California']\n",
    "print state_abb"
   ]
  },
  {
   "cell_type": "code",
   "execution_count": null,
   "metadata": {
    "collapsed": true
   },
   "outputs": [],
   "source": [
    "#index\n",
    "\n",
    "#type\n",
    "\n",
    "#name\n",
    "name = s.find('h1', attrs = {'class':'heading_name'}).text.strip()\n",
    "#city\n",
    "city = s.find('span', attrs = {'property':'addressLocality'}).text.strip()\n",
    "\n",
    "#state\n",
    "state_abb = s.find('span', attrs = {'property':'addressRegion'}).text.strip()\n",
    "state = \n",
    "postal_code = s.find('span', attrs = {'property':'postalCode'}).text.strip()\n",
    "\n",
    "#country\n",
    "country = s.find('span', attrs = {'property':'addressCountry'})['content']\n",
    "#address\n",
    "full_address = street_address+', '+city+', '+state_abb+', '+postal_code+', '+country\n",
    "\n",
    "#coord0\n",
    "#coord1\n",
    "#num_reviews\n",
    "num_reviews = s.find('div', attrs = {'class': 'rs rating'}).find('a').get('content')\n",
    "\n",
    "#review_score\n",
    "review_score = s.find('div', attrs = {'class': 'heading_rating separator'}).find('img').get('content')\n",
    "\n",
    "#ranking\n",
    "ranking = s.find('b', attrs = {'class':'rank_text wrap'}).text.strip().replace('#',\"\")\n",
    "\n",
    "#tag\n",
    "tags = \", \".join(label.text for label in s.select('div.detail > a') + s.select('span[class=\"collapse hidden\"] > a'))\n",
    "\n",
    "#visit_length\n",
    "visit_length = s.find(text =\"Recommended length of visit:\").parent.next_sibling\n",
    "\n",
    "#fee\n",
    "fee = s.find(text= \"Fee:\").parent.next_sibling\n",
    "\n",
    "#description\n",
    "description = s.find('div', attrs = {'class': \"listing_details\"}).text.strip()\n"
   ]
  },
  {
   "cell_type": "code",
   "execution_count": 814,
   "metadata": {
    "collapsed": false
   },
   "outputs": [],
   "source": [
    "# a= s.select('div.detail > a')\n",
    "# for i in a:\n",
    "#     print i.text\n",
    "\n"
   ]
  },
  {
   "cell_type": "code",
   "execution_count": 758,
   "metadata": {
    "collapsed": false
   },
   "outputs": [
    {
     "data": {
      "text/plain": [
       "'Historic Sites, Islands, National Parks, Nature & Wildlife Areas, Nature & Parks, Sights & Landmarks, More'"
      ]
     },
     "execution_count": 758,
     "metadata": {},
     "output_type": "execute_result"
    }
   ],
   "source": [
    "tags"
   ]
  },
  {
   "cell_type": "code",
   "execution_count": null,
   "metadata": {
    "collapsed": false
   },
   "outputs": [],
   "source": []
  },
  {
   "cell_type": "code",
   "execution_count": 802,
   "metadata": {
    "collapsed": false
   },
   "outputs": [
    {
     "data": {
      "text/plain": [
       "[<a href=\"/Attractions-g60713-Activities-c47-t17-San_Francisco_California.html\">Historic Sites</a>,\n",
       " <a href=\"/Attractions-g60713-Activities-c57-t20-San_Francisco_California.html\">Islands</a>,\n",
       " <a href=\"/Attractions-g60713-Activities-c57-San_Francisco_California.html\">Nature &amp; Parks</a>,\n",
       " <a href=\"/Attractions-g60713-Activities-c47-San_Francisco_California.html\">Sights &amp; Landmarks</a>]"
      ]
     },
     "execution_count": 802,
     "metadata": {},
     "output_type": "execute_result"
    }
   ],
   "source": [
    "s.select('div[class=\"detail\"] > a')"
   ]
  },
  {
   "cell_type": "code",
   "execution_count": 407,
   "metadata": {
    "collapsed": false
   },
   "outputs": [],
   "source": [
    "<span class=\"collapse hidden\">, <a href=\"/Attractions-g60713-Activities-c57-t68-San_Francisco_California.html\">Nature &amp; Wildlife Areas</a></span>"
   ]
  },
  {
   "cell_type": "code",
   "execution_count": 691,
   "metadata": {
    "collapsed": false
   },
   "outputs": [
    {
     "data": {
      "text/plain": [
       "{'Fee': u' Yes ', 'length of visit': u' 2-3 hours '}"
      ]
     },
     "execution_count": 691,
     "metadata": {},
     "output_type": "execute_result"
    }
   ],
   "source": [
    "# detail = {}\n",
    "# addition_info = s.find('div', attrs = {'class':'details_wrapper'}).text.strip('\\n').replace(\"\\n\\n\",\"\\n\").split('\\n')\n",
    "# # if addition_info[0] == 'Description':\n",
    "# #     print addition_info[1]\n",
    "# addition_info\n",
    "\n",
    "# for info in addition_info:\n",
    "#     info_list = info.split(':')\n",
    "#     if info_list[0]==\"Fee\":\n",
    "#         details[\"Fee\"] = info_list[1]\n",
    "#     else:\n",
    "#         details[\"length of visit\"] = info_list[1]\n",
    "# details"
   ]
  },
  {
   "cell_type": "code",
   "execution_count": 690,
   "metadata": {
    "collapsed": false
   },
   "outputs": [
    {
     "data": {
      "text/plain": [
       "u' Yes '"
      ]
     },
     "execution_count": 690,
     "metadata": {},
     "output_type": "execute_result"
    }
   ],
   "source": [
    "# fee = s.find('div', {'class':'details_wrapper'})\n",
    "# fee\n",
    "length_visit = s.find(text =\"Recommended length of visit:\").parent.next_sibling\n",
    "length_visit\n",
    "fee = s.find(text= \"Fee:\").parent.next_sibling\n",
    "fee\n"
   ]
  },
  {
   "cell_type": "code",
   "execution_count": 689,
   "metadata": {
    "collapsed": false
   },
   "outputs": [
    {
     "name": "stdout",
     "output_type": "stream",
     "text": [
      "Park rangers conduct tours by recounting the prison's thrilling history along with intriguing anecdotes about Al Capone and other legendary figures that made a \"home\" here.\n"
     ]
    }
   ],
   "source": [
    "description = s.find('div', attrs = {'class': \"listing_details\"}).text.strip()\n",
    "print description"
   ]
  },
  {
   "cell_type": "code",
   "execution_count": null,
   "metadata": {
    "collapsed": true
   },
   "outputs": [],
   "source": []
  },
  {
   "cell_type": "code",
   "execution_count": null,
   "metadata": {
    "collapsed": false
   },
   "outputs": [],
   "source": []
  },
  {
   "cell_type": "code",
   "execution_count": 406,
   "metadata": {
    "collapsed": false
   },
   "outputs": [
    {
     "name": "stdout",
     "output_type": "stream",
     "text": [
      "San Francisco Zoo 59 4.0 637 tag: Outdoor Activities, Zoos & Aquariums, Nature & Parks add: Sloat Boulevard at 45th Avenue, San Francisco, CA, 94132 United States\n"
     ]
    }
   ],
   "source": [
    "print name, ranking, review_score, num_reviews,\"tag:\", tags, \"add:\",full_address, country"
   ]
  }
 ],
 "metadata": {
  "anaconda-cloud": {},
  "kernelspec": {
   "display_name": "Python [conda env:python2]",
   "language": "python",
   "name": "conda-env-python2-py"
  },
  "language_info": {
   "codemirror_mode": {
    "name": "ipython",
    "version": 2
   },
   "file_extension": ".py",
   "mimetype": "text/x-python",
   "name": "python",
   "nbconvert_exporter": "python",
   "pygments_lexer": "ipython2",
   "version": "2.7.12"
  }
 },
 "nbformat": 4,
 "nbformat_minor": 1
}
