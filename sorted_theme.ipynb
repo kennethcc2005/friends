{
 "cells": [
  {
   "cell_type": "code",
   "execution_count": 1,
   "metadata": {
    "collapsed": true
   },
   "outputs": [],
   "source": [
    "import pandas as pd\n",
    "import numpy as py"
   ]
  },
  {
   "cell_type": "code",
   "execution_count": 2,
   "metadata": {
    "collapsed": false
   },
   "outputs": [],
   "source": [
    "# poi = pd.read_csv(\"poi_detail_table_final_v1.csv\", encoding = ('utf-8'), index_col =0)\n",
    "# poi.to_csv(\"poi_detail_table_final_v1.csv\", encoding = ('utf-8'))"
   ]
  },
  {
   "cell_type": "code",
   "execution_count": 65,
   "metadata": {
    "collapsed": false
   },
   "outputs": [],
   "source": [
    "def outside_trip_poi(origin_city, origin_state, target_direction = 'N', n_days = 1, \\\n",
    "                    full_day = True, regular = True, debug = True, user_id = 'admin'):\n",
    "    outside_trip_id = '-'.join([str(origin_state.upper().replace(' ','-')), str(origin_city.upper().replace(' ','-')), \\\n",
    "                        target_direction,str(int(regular)), str(n_days)])\n",
    "    if not check_outside_trip_id(outside_trip_id, debug):\n",
    "        furthest_len = 140\n",
    "        if n_days == 1:\n",
    "            furthest_len = 140\n",
    "        #possible city coords, target city coord_lat, target city coord_long\n",
    "        # city_id, coords, coord_lat, coord_long = travel_outside_coords(origin_city, origin_state)\n",
    "        #coords: city, lat, long\n",
    "        # check_cities_info = []\n",
    "        # for item in coords:\n",
    "        #     direction = direction_from_orgin(coord_long,  coord_lat, item[2], item[1])\n",
    "        #     if (target_direction == direction) and (geopy_dist((item[1], item[2]), (coord_lat, coord_long)) < furthest_len):\n",
    "        #         check_cities_info.append(item)\n",
    "        # city_infos = []\n",
    "        # for city, _, _ in check_cities_info:\n",
    "        #     county = None\n",
    "        #     #index, coord0, coord1, adjusted_normal_time_spent, poi_rank, rating\n",
    "        #     city_info = db_start_location(county, origin_state, city)\n",
    "        #     city_infos.extend(city_info)\n",
    "        city_id, coord_lat, coord_long, city_infos = travel_outside_with_direction(origin_city, origin_state, target_direction, furthest_len, n_days=1)\n",
    "        if len(city_infos)<=0:\n",
    "            username_id = 1\n",
    "            conn = psycopg2.connect(conn_str)\n",
    "            cur = conn.cursor()\n",
    "            cur.execute('SELECT MAX(index) from outside_trip_table;')\n",
    "            new_index = cur.fetchone()[0] +1\n",
    "            cur.execute(\"INSERT into outside_trip_table(index, username_id, outside_trip_id, outside_route_ids, event_id_lst, origin_city, origin_state, target_direction, n_routes, regular, full_day, details) \\\n",
    "                         VALUES (%s,'%s', '%s', '%s','%s', '%s', '%s', '%s', %s,%s,%s,'%s');\" \\\n",
    "                         %(new_index, username_id, outside_trip_id, '[]', '[]', origin_city, origin_state, target_direction, 0, regular, full_day, '[]'))\n",
    "            conn.commit()\n",
    "            conn.close()\n",
    "            print \"finish update None for %s, %s, direction %s into database\" %(origin_state, origin_city, target_direction)\n",
    "            return None\n",
    "        # city_infos = np.array(city_infos)\n",
    "        poi_coords = city_infos[:,1:3]\n",
    "        n_routes = sum(1 for t in np.array(city_infos)[:,3] if t >= 120)/10\n",
    "        if (n_routes>1) and (city_infos.shape[0]>=10):\n",
    "            kmeans = KMeans(n_clusters=n_routes).fit(poi_coords)\n",
    "        elif (city_infos.shape[0]> 20) or (n_routes>1):\n",
    "            kmeans = KMeans(n_clusters=2).fit(poi_coords)\n",
    "        else:\n",
    "            kmeans = KMeans(n_clusters=1).fit(poi_coords)\n",
    "        route_labels = kmeans.labels_\n",
    "        # print n_routes, len(route_labels), city_infos.shape\n",
    "        # print route_labels\n",
    "        outside_route_ids, outside_trip_details,event_id_lst ,details_theme =[],[],[],[]\n",
    "        for i in range(n_routes):\n",
    "            current_events, big_ix, med_ix, small_ix = [], [],[], []\n",
    "            for ix, label in enumerate(route_labels):\n",
    "                if label == i:\n",
    "                    time = city_infos[ix,3]\n",
    "                    event_ix = city_infos[ix,0]\n",
    "                    current_events.append(event_ix)\n",
    "                    if time > 180 :\n",
    "                        big_ix.append(ix)\n",
    "                    elif time >= 120 :\n",
    "                        med_ix.append(ix)\n",
    "                    else:\n",
    "                        small_ix.append(ix)\n",
    "            big_ = sorted_outside_events(city_infos, big_ix)\n",
    "            med_ = sorted_outside_events(city_infos, med_ix)\n",
    "            small_ = sorted_outside_events(city_infos, small_ix)\n",
    "            # need to update!!!!!!!!\n",
    "            event_ids, event_type = create_outside_event_id_list(big_, med_, small_)\n",
    "            event_ids, event_type = db_outside_event_cloest_distance(coord_lat, coord_long, event_ids = event_ids, event_type = event_type)\n",
    "            event_ids, google_ids, name_list, driving_time_list, walking_time_list =db_outside_google_driving_walking_time(city_id, coord_lat,coord_long, event_ids, event_type, origin_city = origin_city, origin_state = origin_state)\n",
    "            #why bug????\n",
    "            event_ids, driving_time_list, walking_time_list, total_time_spent = db_remove_outside_extra_events(event_ids, driving_time_list, walking_time_list)\n",
    "            outside_route_id = outside_trip_id + '-'+str(i)\n",
    "#             values = db_outside_route_trip_details(outside_route_id, event_ids, origin_city, origin_state, regular, full_day,n_days,i)\n",
    "            if check_outside_route_id(outside_route_id):\n",
    "                conn = psycopg2.connect(conn_str)\n",
    "                cur = conn.cursor()\n",
    "                cur.execute('DELETE FROM outside_route_table WHERE outside_route_id = %s;' %(outside_route_id))\n",
    "                conn.commit()\n",
    "                conn.close()\n",
    "                \n",
    "            details = db_outside_route_trip_details(event_ids,i)\n",
    "#             conn = psycopg2.connect(conn_str)\n",
    "#             cur = conn.cursor()\n",
    "#             cur.execute('select max(index) from outside_route_table;')\n",
    "#             new_index = cur.fetchone()[0] + 1\n",
    "#             cur.execute(\"insert into outside_route_table (index, outside_route_id, full_day, regular, origin_city, origin_state, target_direction, details, event_type, event_ids, route_num) \\\n",
    "#                         VALUES (%s, '%s', %s, %s, '%s', '%s', '%s', '%s', '%s', '%s', %s);\" \\\n",
    "#                         %(new_index, outside_route_id, full_day, regular, origin_city, origin_state, target_direction, str(details).replace(\"'\",\"''\"), event_type, str(event_ids) , i))\n",
    "#             conn.commit()\n",
    "#             conn.close()\n",
    "            details = db_outside_route_trip_details(event_ids,i)\n",
    "\n",
    "            route_theme = assign_theme(details)\n",
    "            info = [outside_route_id, full_day, regular, origin_city, origin_state, target_direction, str(details).replace(\"'\",\"''\"), event_type, str(event_ids) , i, route_theme[0]]\n",
    "            route_theme.extend(info)\n",
    "            \n",
    "            details_theme.append(route_theme)\n",
    "#             outside_route_ids.append(outside_route_id)\n",
    "            # outside_trip_details.extend(details)\n",
    "#             event_id_lst.extend(event_ids)\n",
    "        return details_theme\n",
    "        info_to_psql = clean_details(details_theme)\n",
    "        return info_to_psql\n",
    "#         username_id = 1\n",
    "# #         conn = psycopg2.connect(conn_str)\n",
    "# #         cur = conn.cursor()\n",
    "# #         cur.execute('SELECT MAX(index) from outside_trip_table;')\n",
    "# #         new_index = cur.fetchone()[0] +1\n",
    "# #         cur.execute(\"INSERT into outside_trip_table(index, username_id, outside_trip_id, outside_route_ids, event_id_lst, origin_city, origin_state, target_direction, n_routes, regular, full_day, details) \\\n",
    "# #                      VALUES (%s,'%s', '%s', '%s','%s', '%s', '%s', '%s', %s,%s,%s,'%s');\" \\\n",
    "# #                      %(new_index, username_id, outside_trip_id, str(outside_route_ids).replace(\"'\",\"''\"), str(event_id_lst), origin_city, origin_state, target_direction, n_routes, regular, full_day, str(outside_trip_details).replace(\"'\",\"''\")))\n",
    "# #         conn.commit()\n",
    "# #         conn.close()\n",
    "#         print \"finish update %s, %s, direction %s into database\" %(origin_state, origin_city, target_direction)\n",
    "#         return outside_trip_id, outside_trip_details\n",
    "#     else:\n",
    "#         print \"ALERT: %s, %s, direction %s already in database\" %(origin_state, origin_city, target_direction)\n",
    "#         conn = psycopg2.connect(conn_str)\n",
    "#         cur = conn.cursor()\n",
    "#         cur.execute(\"SELECT DISTINCT outside_trip_id, details FROM outside_trip_table WHERE outside_trip_id = '%s';\" %(outside_trip_id))\n",
    "#         outside_trip_id, details = cur.fetchone()\n",
    "#         details = ast.literal_eval(details)\n",
    "#         conn.close()\n",
    "#         return outside_trip_id, details"
   ]
  },
  {
   "cell_type": "code",
   "execution_count": 45,
   "metadata": {
    "collapsed": false
   },
   "outputs": [],
   "source": [
    "import pprint\n",
    "import numpy as np\n",
    "from distance import *\n",
    "from outside_helpers import *"
   ]
  },
  {
   "cell_type": "code",
   "execution_count": 66,
   "metadata": {
    "collapsed": false
   },
   "outputs": [
    {
     "name": "stdout",
     "output_type": "stream",
     "text": [
      "San Francisco California\n"
     ]
    }
   ],
   "source": [
    "direct = [\"E\",\"S\",\"W\",\"N\"]\n",
    "target_direction = direct[1]\n",
    "origin_city = 'San Francisco'\n",
    "origin_state = 'California'\n",
    "print origin_city, origin_state\n",
    "\n",
    "details= outside_trip_poi(origin_city,origin_state, target_direction)"
   ]
  },
  {
   "cell_type": "code",
   "execution_count": 67,
   "metadata": {
    "collapsed": false
   },
   "outputs": [
    {
     "data": {
      "text/plain": [
       "[['nature',\n",
       "  4547,\n",
       "  1,\n",
       "  4.625,\n",
       "  'CALIFORNIA-SAN-FRANCISCO-S-1-1-0',\n",
       "  True,\n",
       "  True,\n",
       "  'San Francisco',\n",
       "  'California',\n",
       "  'S',\n",
       "  \"[{''ranking'': 2L, ''poi_type'': ''StatePark'', ''num_reviews'': 760.0, ''address'': ''800 Asilomar Blvd, Pacific Grove, California, 93950, United States'', ''adjusted_visit_length'': 60.0, ''id'': 14395L, ''review_score'': 5.0, ''name'': ''Asilomar State Beach'', ''route'': 0, ''coord_lat'': 36.6189641, ''coord_long'': -121.9377473}, {''ranking'': 14L, ''poi_type'': ''StatePark'', ''num_reviews'': 124.0, ''address'': ''20 Custom House Plz, Monterey, California, 93940, United States'', ''adjusted_visit_length'': 60.0, ''id'': 14498L, ''review_score'': 4.0, ''name'': ''Monterey State Historic Park'', ''route'': 0, ''coord_lat'': 36.6024141, ''coord_long'': -121.8941315}, {''ranking'': 1L, ''poi_type'': ''StatePark'', ''num_reviews'': 3467.0, ''address'': ''Route 1, Carmel, California, 93923, United States'', ''adjusted_visit_length'': 60.0, ''id'': 14388L, ''review_score'': 5.0, ''name'': ''Point Lobos State Reserve'', ''route'': 0, ''coord_lat'': 36.5748811, ''coord_long'': -121.9135961}, {''ranking'': 9L, ''poi_type'': ''StatePark'', ''num_reviews'': 196.0, ''address'': ''Carmelo St, Carmel, California, United States'', ''adjusted_visit_length'': 120.0, ''id'': 14415L, ''review_score'': 4.5, ''name'': ''Carmel River State Beach'', ''route'': 0, ''coord_lat'': 36.5477602, ''coord_long'': -121.9269584}]\",\n",
       "  'med',\n",
       "  '[ 14395.  14498.  14388.  14415.]',\n",
       "  0,\n",
       "  'nature'],\n",
       " ['family',\n",
       "  663,\n",
       "  3,\n",
       "  4.5,\n",
       "  'CALIFORNIA-SAN-FRANCISCO-S-1-1-1',\n",
       "  True,\n",
       "  True,\n",
       "  'San Francisco',\n",
       "  'California',\n",
       "  'S',\n",
       "  \"[{''ranking'': 2L, ''poi_type'': ''StatePark'', ''num_reviews'': 34.0, ''address'': ''County Road A-14, Graeagle, California, United States'', ''adjusted_visit_length'': 60.0, ''id'': 14514L, ''review_score'': 4.5, ''name'': ''Plumas-Eureka State Park'', ''route'': 1, ''coord_lat'': 37.4882258, ''coord_long'': -122.2308181}, {''ranking'': 3L, ''poi_type'': ''Park'', ''num_reviews'': 582.0, ''address'': ''680 Stanford Shopping Center, Palo Alto, California, 94304, United States'', ''adjusted_visit_length'': 180.0, ''id'': 8881L, ''review_score'': 4.5, ''name'': ''The Stanford Shopping Center'', ''route'': 1, ''coord_lat'': 37.4424429, ''coord_long'': -122.1704871}, {''ranking'': 2L, ''poi_type'': ''Museum'', ''num_reviews'': 350.0, ''address'': ''Lomita Dr. and Museum Way, Palo Alto, California, United States'', ''adjusted_visit_length'': 120.0, ''id'': 8880L, ''review_score'': 4.5, ''name'': ''Cantor Arts Center'', ''route'': 1, ''coord_lat'': 37.4329116, ''coord_long'': -122.1702076}, {''ranking'': 1L, ''poi_type'': ''Landmark'', ''num_reviews'': 1276.0, ''address'': ''450 Serra Mall, Palo Alto, California, 94305, United States'', ''adjusted_visit_length'': 30.0, ''id'': 8879L, ''review_score'': 5.0, ''name'': ''Stanford University'', ''route'': 1, ''coord_lat'': 37.4278015, ''coord_long'': -122.1700577}, {''ranking'': 6L, ''poi_type'': ''Park'', ''num_reviews'': 81.0, ''address'': ''Stanford Ave & Junipero Serra Blvd, Palo Alto, California, United States'', ''adjusted_visit_length'': 60.0, ''id'': 8884L, ''review_score'': 4.5, ''name'': ''The Stanford Dish'', ''route'': 1, ''coord_lat'': 37.4102175, ''coord_long'': -122.1609916}]\",\n",
       "  'med',\n",
       "  '[ 14514.   8881.   8880.   8879.   8884.]',\n",
       "  1,\n",
       "  'family'],\n",
       " ['nature',\n",
       "  80,\n",
       "  2,\n",
       "  4.5,\n",
       "  'CALIFORNIA-SAN-FRANCISCO-S-1-1-2',\n",
       "  True,\n",
       "  True,\n",
       "  'San Francisco',\n",
       "  'California',\n",
       "  'S',\n",
       "  \"[{''ranking'': 6L, ''poi_type'': ''Food'', ''num_reviews'': 9.0, ''address'': ''2100 Buena Vista Ave, Gilroy, California, 95020, United States'', ''adjusted_visit_length'': 60.0, ''id'': 11153L, ''review_score'': 5.0, ''name'': ''Satori Cellars'', ''route'': 2, ''coord_lat'': 37.051021, ''coord_long'': -121.549653}, {''ranking'': 14L, ''poi_type'': ''Food'', ''num_reviews'': 2.0, ''address'': ''3200 Dryden Ave, Gilroy, California, 95020, United States'', ''adjusted_visit_length'': 60.0, ''id'': 11161L, ''review_score'': 4.0, ''name'': ''Thomas Kruse Winery'', ''route'': 2, ''coord_lat'': 37.0402688, ''coord_long'': -121.5238845}, {''ranking'': 15L, ''poi_type'': ''Shopping'', ''num_reviews'': 3.0, ''address'': ''5600 Pacheco Pass Hwy, Gilroy, California, 95020, United States'', ''adjusted_visit_length'': 30.0, ''id'': 11162L, ''review_score'': 3.5, ''name'': ''Pacheco Pass Farmers Market'', ''route'': 2, ''coord_lat'': 36.970593, ''coord_long'': -121.419647}, {''ranking'': 2L, ''poi_type'': ''StatePark'', ''num_reviews'': 63.0, ''address'': ''Highway 156, 3 miles east of Highway 101, San Juan Bautista, California, United States'', ''adjusted_visit_length'': 60.0, ''id'': 14422L, ''review_score'': 4.5, ''name'': ''San Juan Bautista State Historic Park'', ''route'': 2, ''coord_lat'': 36.8443068, ''coord_long'': -121.5347347}, {''ranking'': 3L, ''poi_type'': ''StatePark'', ''num_reviews'': 17.0, ''address'': ''San Juan Bautista, California, United States'', ''adjusted_visit_length'': 120.0, ''id'': 14450L, ''review_score'': 4.5, ''name'': ''Fremont Peak State Park'', ''route'': 2, ''coord_lat'': 36.8455108, ''coord_long'': -121.5379974}]\",\n",
       "  'med',\n",
       "  '[ 11153.  11161.  11162.  14422.  14450.]',\n",
       "  2,\n",
       "  'nature'],\n",
       " ['nature',\n",
       "  171,\n",
       "  1,\n",
       "  4.5,\n",
       "  'CALIFORNIA-SAN-FRANCISCO-S-1-1-3',\n",
       "  True,\n",
       "  True,\n",
       "  'San Francisco',\n",
       "  'California',\n",
       "  'S',\n",
       "  \"[{''ranking'': 1L, ''poi_type'': ''StatePark'', ''num_reviews'': 113.0, ''address'': ''Aptos, California, United States'', ''adjusted_visit_length'': 180.0, ''id'': 14444L, ''review_score'': 4.5, ''name'': ''Forest of Nisene Marks State Park'', ''route'': 3, ''coord_lat'': 36.9771729, ''coord_long'': -121.8994016}, {''ranking'': 3L, ''poi_type'': ''StatePark'', ''num_reviews'': 58.0, ''address'': ''San Andreas Road, Aptos, California, United States'', ''adjusted_visit_length'': 60.0, ''id'': 14487L, ''review_score'': 4.5, ''name'': ''Manresa State Beach'', ''route'': 3, ''coord_lat'': 36.9616267, ''coord_long'': -121.8622633}, {''ranking'': 13L, ''poi_type'': ''Shopping'', ''num_reviews'': 2.0, ''address'': ''11 Hangar Way, Watsonville, California, 95076, United States'', ''adjusted_visit_length'': 60.0, ''id'': 11023L, ''review_score'': 5.0, ''name'': ''Wargin Wines'', ''route'': 3, ''coord_lat'': 36.9294054, ''coord_long'': -121.791026}, {''ranking'': 10L, ''poi_type'': ''Food'', ''num_reviews'': 4.0, ''address'': ''65 Hangar Way, Watsonville, California, 95076, United States'', ''adjusted_visit_length'': 60.0, ''id'': 11020L, ''review_score'': 4.5, ''name'': ''Elkhorn Slough Brewing Company'', ''route'': 3, ''coord_lat'': 36.9275372, ''coord_long'': -121.7902703}]\",\n",
       "  'med',\n",
       "  '[ 14444.  14487.  11023.  11020.]',\n",
       "  3,\n",
       "  'nature'],\n",
       " ['family',\n",
       "  695,\n",
       "  1,\n",
       "  4.5,\n",
       "  'CALIFORNIA-SAN-FRANCISCO-S-1-1-4',\n",
       "  True,\n",
       "  True,\n",
       "  'San Francisco',\n",
       "  'California',\n",
       "  'S',\n",
       "  \"[{''ranking'': 3L, ''poi_type'': ''Park'', ''num_reviews'': 89.0, ''address'': ''The Alameda, Santa Clara, California, 95050, United States'', ''adjusted_visit_length'': 60.0, ''id'': 4621L, ''review_score'': 4.5, ''name'': ''Mission Santa Clara de Asis'', ''route'': 4, ''coord_lat'': 37.3539663, ''coord_long'': -121.9529992}, {''ranking'': 1L, ''poi_type'': ''Park'', ''num_reviews'': 330.0, ''address'': ''Naglee Avenue & Dana Ave, San Jose, California, 95216, United States'', ''adjusted_visit_length'': 60.0, ''id'': 245L, ''review_score'': 4.5, ''name'': ''Municipal Rose Garden'', ''route'': 4, ''coord_lat'': 37.3318383, ''coord_long'': -121.9268411}, {''ranking'': 2L, ''poi_type'': ''Museum'', ''num_reviews'': 567.0, ''address'': ''1660 Park Avenue, San Jose, California, 95191, United States'', ''adjusted_visit_length'': 120.0, ''id'': 246L, ''review_score'': 4.5, ''name'': ''Rosicrucian Egyptian Museum'', ''route'': 4, ''coord_lat'': 37.3334864, ''coord_long'': -121.9228839}, {''ranking'': 17L, ''poi_type'': ''Shopping'', ''num_reviews'': 99.0, ''address'': ''87 N San Pedro St, San Jose, California, 95110, United States'', ''adjusted_visit_length'': 30.0, ''id'': 261L, ''review_score'': 4.0, ''name'': ''San Pedro Square Market'', ''route'': 4, ''coord_lat'': 37.3365213, ''coord_long'': -121.8943208}, {''ranking'': 9L, ''poi_type'': ''Park'', ''num_reviews'': 140.0, ''address'': ''Senter Rd, San Jose, California, 95112, United States'', ''adjusted_visit_length'': 60.0, ''id'': 253L, ''review_score'': 4.5, ''name'': ''Japanese Friendship Garden'', ''route'': 4, ''coord_lat'': 37.3456227, ''coord_long'': -121.8847222}, {''ranking'': 10L, ''poi_type'': ''Park'', ''num_reviews'': 136.0, ''address'': ''San Jose, California, United States'', ''adjusted_visit_length'': 60.0, ''id'': 254L, ''review_score'': 4.5, ''name'': ''Los Gatos Creek Trail'', ''route'': 4, ''coord_lat'': 37.3382082, ''coord_long'': -121.8863286}, {''ranking'': 6L, ''poi_type'': ''Landmark'', ''num_reviews'': 195.0, ''address'': ''80 South Market Street, San Jose, California, 95113, United States'', ''adjusted_visit_length'': 30.0, ''id'': 250L, ''review_score'': 4.5, ''name'': ''Cathedral Basilica of St. Joseph'', ''route'': 4, ''coord_lat'': 37.3341062, ''coord_long'': -121.8904534}]\",\n",
       "  'med',\n",
       "  '[ 4621.   245.   246.   261.   253.   254.   250.]',\n",
       "  4,\n",
       "  'family'],\n",
       " ['lifestyle',\n",
       "  27,\n",
       "  4,\n",
       "  4.0,\n",
       "  'CALIFORNIA-SAN-FRANCISCO-S-1-1-5',\n",
       "  True,\n",
       "  True,\n",
       "  'San Francisco',\n",
       "  'California',\n",
       "  'S',\n",
       "  '[{\\'\\'ranking\\'\\': 1L, \\'\\'poi_type\\'\\': \\'\\'Other\\'\\', \\'\\'num_reviews\\'\\': 30.0, \\'\\'address\\'\\': \\'\\'255 S Airport Blvd, South San Francisco, California, 94080, United States\\'\\', \\'\\'adjusted_visit_length\\'\\': 15.0, \\'\\'id\\'\\': 8966L, \\'\\'review_score\\'\\': 4.0, \\'\\'name\\'\\': \\'\\'South San Francisco Conference Center\\'\\', \\'\\'route\\'\\': 5, \\'\\'coord_lat\\'\\': 37.6474614, \\'\\'coord_long\\'\\': -122.4042661}, {\\'\\'ranking\\'\\': 1L, \\'\\'poi_type\\'\\': \\'\\'Transportation\\'\\', \\'\\'num_reviews\\'\\': 62.0, \\'\\'address\\'\\': \\'\\'San Bruno, California, United States\\'\\', \\'\\'adjusted_visit_length\\'\\': 60.0, \\'\\'id\\'\\': 12974L, \\'\\'review_score\\'\\': 2.0, \\'\\'name\\'\\': \\'\\'Go Lorries Airport Shuttle\\'\\', \\'\\'route\\'\\': 5, \\'\\'coord_lat\\'\\': 37.6304904, \\'\\'coord_long\\'\\': -122.4110835}, {\\'\\'ranking\\'\\': 4L, \\'\\'poi_type\\'\\': \\'\\'Shopping\\'\\', \\'\\'num_reviews\\'\\': 27.0, \\'\\'address\\'\\': \\'\\'1150 El Camino Real, San Bruno, California, 94066, United States\\'\\', \\'\\'adjusted_visit_length\\'\\': 360.0, \\'\\'id\\'\\': 12965L, \\'\\'review_score\\'\\': 4.0, \\'\\'name\\'\\': \\'\\'The Shops at Tanforan\\'\\', \\'\\'route\\'\\': 5, \\'\\'coord_lat\\'\\': 37.6359, \\'\\'coord_long\\'\\': -122.4187981}, {\\'\\'ranking\\'\\': 1L, \\'\\'poi_type\\'\\': \\'\\'StatePark\\'\\', \\'\\'num_reviews\\'\\': 75.0, \\'\\'address\\'\\': \\'\\'210 El Camino Real, South San Francisco, California, 94080, United States\\'\\', \\'\\'adjusted_visit_length\\'\\': 60.0, \\'\\'id\\'\\': 14538L, \\'\\'review_score\\'\\': 5.0, \\'\\'name\\'\\': \"See\\'\\'s Candies\", \\'\\'route\\'\\': 5, \\'\\'coord_lat\\'\\': 37.6436155, \\'\\'coord_long\\'\\': -122.4248474}, {\\'\\'ranking\\'\\': 2L, \\'\\'poi_type\\'\\': \\'\\'Landmark\\'\\', \\'\\'num_reviews\\'\\': 33.0, \\'\\'address\\'\\': \\'\\'1300 Sneath Ln, San Bruno, California, 94066, United States\\'\\', \\'\\'adjusted_visit_length\\'\\': 30.0, \\'\\'id\\'\\': 12964L, \\'\\'review_score\\'\\': 5.0, \\'\\'name\\'\\': \\'\\'Golden Gate National Cemetery\\'\\', \\'\\'route\\'\\': 5, \\'\\'coord_lat\\'\\': 37.6340367, \\'\\'coord_long\\'\\': -122.4275549}]',\n",
       "  'big',\n",
       "  '[  8966.  12974.  12965.  14538.  12964.]',\n",
       "  5,\n",
       "  'lifestyle'],\n",
       " ['nature',\n",
       "  588,\n",
       "  5,\n",
       "  4.5,\n",
       "  'CALIFORNIA-SAN-FRANCISCO-S-1-1-6',\n",
       "  True,\n",
       "  True,\n",
       "  'San Francisco',\n",
       "  'California',\n",
       "  'S',\n",
       "  \"[{''ranking'': 5L, ''poi_type'': ''StatePark'', ''num_reviews'': 588.0, ''address'': ''47225 Highway 1, Big Sur, California, 93920, United States'', ''adjusted_visit_length'': 60.0, ''id'': 14509L, ''review_score'': 4.5, ''name'': ''Pfeiffer Big Sur State Park'', ''route'': 6, ''coord_lat'': 36.2505527, ''coord_long'': -121.78605}]\",\n",
       "  'big',\n",
       "  '[ 14509.]',\n",
       "  6,\n",
       "  'nature'],\n",
       " ['lifestyle',\n",
       "  100,\n",
       "  2,\n",
       "  4.5,\n",
       "  'CALIFORNIA-SAN-FRANCISCO-S-1-1-7',\n",
       "  True,\n",
       "  True,\n",
       "  'San Francisco',\n",
       "  'California',\n",
       "  'S',\n",
       "  '[{\\'\\'ranking\\'\\': 6L, \\'\\'poi_type\\'\\': \\'\\'OutdoorActivities\\'\\', \\'\\'num_reviews\\'\\': 26.0, \\'\\'address\\'\\': \\'\\'1000 San Bruno Ave, Morgan Hill, California, 95037, United States\\'\\', \\'\\'adjusted_visit_length\\'\\': 150.0, \\'\\'id\\'\\': 13323L, \\'\\'review_score\\'\\': 4.5, \\'\\'name\\'\\': \\'\\'Coyote Valley Sporting Clay\\'\\', \\'\\'route\\'\\': 7, \\'\\'coord_lat\\'\\': 37.1540195, \\'\\'coord_long\\'\\': -121.7081309}, {\\'\\'ranking\\'\\': 5L, \\'\\'poi_type\\'\\': \\'\\'Landmark\\'\\', \\'\\'num_reviews\\'\\': 24.0, \\'\\'address\\'\\': \\'\\'1615 Half Road, Morgan Hill, California, 95037, United States\\'\\', \\'\\'adjusted_visit_length\\'\\': 30.0, \\'\\'id\\'\\': 13322L, \\'\\'review_score\\'\\': 4.5, \\'\\'name\\'\\': \"Andy\\'\\'s Orchard\", \\'\\'route\\'\\': 7, \\'\\'coord_lat\\'\\': 37.1524107, \\'\\'coord_long\\'\\': -121.6369227}, {\\'\\'ranking\\'\\': 2L, \\'\\'poi_type\\'\\': \\'\\'Food\\'\\', \\'\\'num_reviews\\'\\': 59.0, \\'\\'address\\'\\': \\'\\'1480 E. Main Avenue, Morgan Hill, California, 95037, United States\\'\\', \\'\\'adjusted_visit_length\\'\\': 60.0, \\'\\'id\\'\\': 13319L, \\'\\'review_score\\'\\': 4.5, \\'\\'name\\'\\': \\'\\'Guglielmo Winery\\'\\', \\'\\'route\\'\\': 7, \\'\\'coord_lat\\'\\': 37.145724, \\'\\'coord_long\\'\\': -121.6343234}, {\\'\\'ranking\\'\\': 4L, \\'\\'poi_type\\'\\': \\'\\'Food\\'\\', \\'\\'num_reviews\\'\\': 19.0, \\'\\'address\\'\\': \\'\\'Morgan Hill, California, 95038, United States\\'\\', \\'\\'adjusted_visit_length\\'\\': 60.0, \\'\\'id\\'\\': 13321L, \\'\\'review_score\\'\\': 5.0, \\'\\'name\\'\\': \\'\\'California Passport\\'\\', \\'\\'route\\'\\': 7, \\'\\'coord_lat\\'\\': 37.13, \\'\\'coord_long\\'\\': -121.65}, {\\'\\'ranking\\'\\': 4L, \\'\\'poi_type\\'\\': \\'\\'Food\\'\\', \\'\\'num_reviews\\'\\': 22.0, \\'\\'address\\'\\': \\'\\'11550 Watsonville Rd, Gilroy, California, 95020, United States\\'\\', \\'\\'adjusted_visit_length\\'\\': 60.0, \\'\\'id\\'\\': 11151L, \\'\\'review_score\\'\\': 4.0, \\'\\'name\\'\\': \\'\\'Kirigin Cellars Winery\\'\\', \\'\\'route\\'\\': 7, \\'\\'coord_lat\\'\\': 37.0467288, \\'\\'coord_long\\'\\': -121.6526903}]',\n",
       "  'med',\n",
       "  '[ 13323.  13322.  13319.  13321.  11151.]',\n",
       "  7,\n",
       "  'lifestyle'],\n",
       " ['family',\n",
       "  56,\n",
       "  6,\n",
       "  4.75,\n",
       "  'CALIFORNIA-SAN-FRANCISCO-S-1-1-8',\n",
       "  True,\n",
       "  True,\n",
       "  'San Francisco',\n",
       "  'California',\n",
       "  'S',\n",
       "  '[{\\'\\'ranking\\'\\': 18L, \\'\\'poi_type\\'\\': \\'\\'Landmark\\'\\', \\'\\'num_reviews\\'\\': 2.0, \\'\\'address\\'\\': \\'\\'333 Boronda Rd, Salinas, California, 93907, United States\\'\\', \\'\\'adjusted_visit_length\\'\\': 60.0, \\'\\'id\\'\\': 3578L, \\'\\'review_score\\'\\': 4.5, \\'\\'name\\'\\': \\'\\'Boronda Adobe History Center\\'\\', \\'\\'route\\'\\': 8, \\'\\'coord_lat\\'\\': 36.700671, \\'\\'coord_long\\'\\': -121.678769}, {\\'\\'ranking\\'\\': 11L, \\'\\'poi_type\\'\\': \\'\\'VisotorCenter\\'\\', \\'\\'num_reviews\\'\\': 4.0, \\'\\'address\\'\\': \\'\\'1213 N Davis Rd, Salinas, California, 93907, United States\\'\\', \\'\\'adjusted_visit_length\\'\\': 60.0, \\'\\'id\\'\\': 3571L, \\'\\'review_score\\'\\': 5.0, \\'\\'name\\'\\': \\'\\'California Welcome Center Salinas\\'\\', \\'\\'route\\'\\': 8, \\'\\'coord_lat\\'\\': 36.6993861, \\'\\'coord_long\\'\\': -121.6680062}, {\\'\\'ranking\\'\\': 8L, \\'\\'poi_type\\'\\': \\'\\'Park\\'\\', \\'\\'num_reviews\\'\\': 18.0, \\'\\'address\\'\\': \\'\\'1 Maryal Dr, Salinas, California, 93906, United States\\'\\', \\'\\'adjusted_visit_length\\'\\': 60.0, \\'\\'id\\'\\': 3569L, \\'\\'review_score\\'\\': 5.0, \\'\\'name\\'\\': \"Tatum\\'\\'s Garden\", \\'\\'route\\'\\': 8, \\'\\'coord_lat\\'\\': 36.6910289, \\'\\'coord_long\\'\\': -121.6461198}, {\\'\\'ranking\\'\\': 7L, \\'\\'poi_type\\'\\': \\'\\'Landmark\\'\\', \\'\\'num_reviews\\'\\': 48.0, \\'\\'address\\'\\': \\'\\'Salinas, California, United States\\'\\', \\'\\'adjusted_visit_length\\'\\': 30.0, \\'\\'id\\'\\': 3568L, \\'\\'review_score\\'\\': 4.0, \\'\\'name\\'\\': \\'\\'Oldtown\\'\\', \\'\\'route\\'\\': 8, \\'\\'coord_lat\\'\\': 36.6777372, \\'\\'coord_long\\'\\': -121.6555013}, {\\'\\'ranking\\'\\': 17L, \\'\\'poi_type\\'\\': \\'\\'Food\\'\\', \\'\\'num_reviews\\'\\': 2.0, \\'\\'address\\'\\': \\'\\'645 River Rd, Salinas, California, 93908, United States\\'\\', \\'\\'adjusted_visit_length\\'\\': 60.0, \\'\\'id\\'\\': 3577L, \\'\\'review_score\\'\\': 4.5, \\'\\'name\\'\\': \\'\\'Marilyn Remark Winery\\'\\', \\'\\'route\\'\\': 8, \\'\\'coord_lat\\'\\': 36.5748551, \\'\\'coord_long\\'\\': -121.5799174}, {\\'\\'ranking\\'\\': 6L, \\'\\'poi_type\\'\\': \\'\\'Park\\'\\', \\'\\'num_reviews\\'\\': 38.0, \\'\\'address\\'\\': \\'\\'501 Monterey Salinas Hwy, Salinas, California, 93908, United States\\'\\', \\'\\'adjusted_visit_length\\'\\': 60.0, \\'\\'id\\'\\': 3567L, \\'\\'review_score\\'\\': 4.5, \\'\\'name\\'\\': \\'\\'Toro County Park\\'\\', \\'\\'route\\'\\': 8, \\'\\'coord_lat\\'\\': 36.6027626, \\'\\'coord_long\\'\\': -121.6911908}]',\n",
       "  'big',\n",
       "  '[ 3578.  3571.  3569.  3568.  3577.  3567.]',\n",
       "  8,\n",
       "  'family'],\n",
       " ['family',\n",
       "  257,\n",
       "  1,\n",
       "  4.5,\n",
       "  'CALIFORNIA-SAN-FRANCISCO-S-1-1-9',\n",
       "  True,\n",
       "  True,\n",
       "  'San Francisco',\n",
       "  'California',\n",
       "  'S',\n",
       "  \"[{''ranking'': 3L, ''poi_type'': ''Landmark'', ''num_reviews'': 137.0, ''address'': ''1981 Landings Dr, Mountain View, California, 94043, United States'', ''adjusted_visit_length'': 60.0, ''id'': 7667L, ''review_score'': 3.5, ''name'': ''Google Android Lawn Statues'', ''route'': 9, ''coord_lat'': 37.4185622, ''coord_long'': -122.0877296}, {''ranking'': 2L, ''poi_type'': ''Park'', ''num_reviews'': 93.0, ''address'': ''Mountain View, Mountain View, California, United States'', ''adjusted_visit_length'': 60.0, ''id'': 7666L, ''review_score'': 4.5, ''name'': ''Stevens Creek Trail'', ''route'': 9, ''coord_lat'': 37.3860517, ''coord_long'': -122.0838511}, {''ranking'': 1L, ''poi_type'': ''Park'', ''num_reviews'': 164.0, ''address'': ''Cristo Rey Drive, Cupertino, California, 95014, United States'', ''adjusted_visit_length'': 60.0, ''id'': 9772L, ''review_score'': 4.5, ''name'': ''Rancho San Antonio County Park'', ''route'': 9, ''coord_lat'': 37.31317, ''coord_long'': -122.0723816}, {''ranking'': 2L, ''poi_type'': ''Landmark'', ''num_reviews'': 271.0, ''address'': ''1 Infinite Loop, Cupertino, California, 95014, United States'', ''adjusted_visit_length'': 30.0, ''id'': 9773L, ''review_score'': 3.5, ''name'': ''Apple Inc.'', ''route'': 9, ''coord_lat'': 37.3322109, ''coord_long'': -122.0307778}]\",\n",
       "  'big',\n",
       "  '[ 7667.  7666.  9772.  9773.]',\n",
       "  9,\n",
       "  'family'],\n",
       " ['family',\n",
       "  340,\n",
       "  1,\n",
       "  4.5,\n",
       "  'CALIFORNIA-SAN-FRANCISCO-S-1-1-10',\n",
       "  True,\n",
       "  True,\n",
       "  'San Francisco',\n",
       "  'California',\n",
       "  'S',\n",
       "  \"[{''ranking'': 2L, ''poi_type'': ''Park'', ''num_reviews'': 139.0, ''address'': ''1961 Coyote Point Dr, San Mateo, California, 94401, United States'', ''adjusted_visit_length'': 60.0, ''id'': 5734L, ''review_score'': 4.5, ''name'': ''Coyote Point Recreation Area'', ''route'': 10, ''coord_lat'': 37.5864995, ''coord_long'': -122.3184708}, {''ranking'': 1L, ''poi_type'': ''Park'', ''num_reviews'': 148.0, ''address'': ''Fifth Ave., San Mateo, California, United States'', ''adjusted_visit_length'': 60.0, ''id'': 5733L, ''review_score'': 4.5, ''name'': ''The San Mateo Japanese Garden'', ''route'': 10, ''coord_lat'': 37.5657716, ''coord_long'': -122.3185637}, {''ranking'': 5L, ''poi_type'': ''Park'', ''num_reviews'': 53.0, ''address'': ''50 E 5th Ave, San Mateo, California, 94401, United States'', ''adjusted_visit_length'': 60.0, ''id'': 5737L, ''review_score'': 4.5, ''name'': ''Central Park'', ''route'': 10, ''coord_lat'': 37.5613449, ''coord_long'': -122.3220528}]\",\n",
       "  'big',\n",
       "  '[ 5734.  5733.  5737.]',\n",
       "  10,\n",
       "  'family'],\n",
       " ['cultural',\n",
       "  2548,\n",
       "  1,\n",
       "  4.166666666666667,\n",
       "  'CALIFORNIA-SAN-FRANCISCO-S-1-1-11',\n",
       "  True,\n",
       "  True,\n",
       "  'San Francisco',\n",
       "  'California',\n",
       "  'S',\n",
       "  \"[{''ranking'': 5L, ''poi_type'': ''Landmark'', ''num_reviews'': 782.0, ''address'': ''465 Mystery Spot Road off Branciforte Dr., Santa Cruz, California, 95065, United States'', ''adjusted_visit_length'': 30.0, ''id'': 9382L, ''review_score'': 4.0, ''name'': ''Mystery Spot'', ''route'': 11, ''coord_lat'': 37.0168648, ''coord_long'': -122.002508}, {''ranking'': 1L, ''poi_type'': ''Landmark'', ''num_reviews'': 909.0, ''address'': ''Santa Cruz, California, 95060, United States'', ''adjusted_visit_length'': 30.0, ''id'': 9378L, ''review_score'': 4.5, ''name'': ''West Cliff Drive'', ''route'': 11, ''coord_lat'': 36.9741171, ''coord_long'': -122.0307963}, {''ranking'': 4L, ''poi_type'': ''Landmark'', ''num_reviews'': 857.0, ''address'': ''Beach Street, Santa Cruz, California, United States'', ''adjusted_visit_length'': 30.0, ''id'': 9381L, ''review_score'': 4.0, ''name'': ''Santa Cruz Wharf'', ''route'': 11, ''coord_lat'': 36.9644165, ''coord_long'': -122.0194475}, {''ranking'': 13L, ''poi_type'': ''Park'', ''num_reviews'': 191.0, ''address'': ''Beach Street, Santa Cruz, California, United States'', ''adjusted_visit_length'': 60.0, ''id'': 9389L, ''review_score'': 4.0, ''name'': ''Santa Cruz Main Beach'', ''route'': 11, ''coord_lat'': 36.9644165, ''coord_long'': -122.0194475}]\",\n",
       "  'big',\n",
       "  '[ 9382.  9378.  9381.  9389.]',\n",
       "  11,\n",
       "  'cultural'],\n",
       " ['nature',\n",
       "  478,\n",
       "  1,\n",
       "  4.5,\n",
       "  'CALIFORNIA-SAN-FRANCISCO-S-1-1-12',\n",
       "  True,\n",
       "  True,\n",
       "  'San Francisco',\n",
       "  'California',\n",
       "  'S',\n",
       "  \"[{''ranking'': 1L, ''poi_type'': ''StatePark'', ''num_reviews'': 13.0, ''address'': ''Portola State Park Rd, La Honda, California, 94020, United States'', ''adjusted_visit_length'': 180.0, ''id'': 14523L, ''review_score'': 4.5, ''name'': ''Portola Redwoods State Park'', ''route'': 12, ''coord_lat'': 37.2689187, ''coord_long'': -122.2131186}, {''ranking'': 1L, ''poi_type'': ''StatePark'', ''num_reviews'': 465.0, ''address'': ''21600 Big Basin Way, Boulder Creek, California, 95006, United States'', ''adjusted_visit_length'': 60.0, ''id'': 14402L, ''review_score'': 4.5, ''name'': ''Big Basin Redwoods State Park'', ''route'': 12, ''coord_lat'': 37.1722714, ''coord_long'': -122.222453}, {''ranking'': 26L, ''poi_type'': ''Park'', ''num_reviews'': 28.0, ''address'': ''Hwy. 1, six miles north of Davenport, Santa Cruz, California, United States'', ''adjusted_visit_length'': 60.0, ''id'': 9400L, ''review_score'': 4.5, ''name'': ''Waddell State Beach'', ''route'': 12, ''coord_lat'': 37.0969366, ''coord_long'': -122.279827}]\",\n",
       "  'med',\n",
       "  '[ 14523.  14402.   9400.]',\n",
       "  12,\n",
       "  'nature']]"
      ]
     },
     "execution_count": 67,
     "metadata": {},
     "output_type": "execute_result"
    }
   ],
   "source": [
    "details"
   ]
  },
  {
   "cell_type": "code",
   "execution_count": 82,
   "metadata": {
    "collapsed": false
   },
   "outputs": [
    {
     "data": {
      "text/plain": [
       "array([1, 3, 2, 1, 1, 4, 5, 2, 6, 1, 1, 1, 1])"
      ]
     },
     "execution_count": 82,
     "metadata": {},
     "output_type": "execute_result"
    }
   ],
   "source": [
    "# details_array= np.array(details)\n",
    "\n",
    "details_array[:,[1,3]] = details_array[:,[1,3]].astype(np.float)\n",
    "details_array[:,2].astype(np.int)\n"
   ]
  },
  {
   "cell_type": "code",
   "execution_count": 80,
   "metadata": {
    "collapsed": false
   },
   "outputs": [],
   "source": [
    "details_array= np.array(details)\n",
    "\n",
    "final = []\n",
    "used =[]\n",
    "for count, i, in enumerate(details_array):\n",
    "    if (i[0] == \"national_park\") or (i[0] == \"theme_park\"):\n",
    "        final.append(i[4])\n",
    "        used.append(count)\n",
    "details_array = np.delete(details_array, used, axis = 0)\n",
    "a= np.array(sorted(details_array, key=lambda x: (x[2].astype(np.int), -x[1].astype(np.float), x[3].astype(np.float))))\n",
    "\n",
    "theme_select_dict={}\n",
    "backup =[]\n",
    "# a[:,0:4]\n",
    "for count, i in enumerate(a):\n",
    "    if i[0] not in theme_select_dict:\n",
    "        theme_select_dict[i[0]] = 1\n",
    "        final.append(i[4:])\n",
    "    else:\n",
    "        backup.extend(i[4:])"
   ]
  },
  {
   "cell_type": "code",
   "execution_count": 81,
   "metadata": {
    "collapsed": false
   },
   "outputs": [
    {
     "data": {
      "text/plain": [
       "[array(['CALIFORNIA-SAN-FRANCISCO-S-1-1-0', 'True', 'True', 'San Francisco',\n",
       "        'California', 'S',\n",
       "        \"[{''ranking'': 2L, ''poi_type'': ''StatePark'', ''num_reviews'': 760.0, ''address'': ''800 Asilomar Blvd, Pacific Grove, California, 93950, United States'', ''adjusted_visit_length'': 60.0, ''id'': 14395L, ''review_score'': 5.0, ''name'': ''Asilomar State Beach'', ''route'': 0, ''coord_lat'': 36.6189641, ''coord_long'': -121.9377473}, {''ranking'': 14L, ''poi_type'': ''StatePark'', ''num_reviews'': 124.0, ''address'': ''20 Custom House Plz, Monterey, California, 93940, United States'', ''adjusted_visit_length'': 60.0, ''id'': 14498L, ''review_score'': 4.0, ''name'': ''Monterey State Historic Park'', ''route'': 0, ''coord_lat'': 36.6024141, ''coord_long'': -121.8941315}, {''ranking'': 1L, ''poi_type'': ''StatePark'', ''num_reviews'': 3467.0, ''address'': ''Route 1, Carmel, California, 93923, United States'', ''adjusted_visit_length'': 60.0, ''id'': 14388L, ''review_score'': 5.0, ''name'': ''Point Lobos State Reserve'', ''route'': 0, ''coord_lat'': 36.5748811, ''coord_long'': -121.9135961}, {''ranking'': 9L, ''poi_type'': ''StatePark'', ''num_reviews'': 196.0, ''address'': ''Carmelo St, Carmel, California, United States'', ''adjusted_visit_length'': 120.0, ''id'': 14415L, ''review_score'': 4.5, ''name'': ''Carmel River State Beach'', ''route'': 0, ''coord_lat'': 36.5477602, ''coord_long'': -121.9269584}]\",\n",
       "        'med', '[ 14395.  14498.  14388.  14415.]', '0', 'nature'], \n",
       "       dtype='|S2291'),\n",
       " array(['CALIFORNIA-SAN-FRANCISCO-S-1-1-11', 'True', 'True',\n",
       "        'San Francisco', 'California', 'S',\n",
       "        \"[{''ranking'': 5L, ''poi_type'': ''Landmark'', ''num_reviews'': 782.0, ''address'': ''465 Mystery Spot Road off Branciforte Dr., Santa Cruz, California, 95065, United States'', ''adjusted_visit_length'': 30.0, ''id'': 9382L, ''review_score'': 4.0, ''name'': ''Mystery Spot'', ''route'': 11, ''coord_lat'': 37.0168648, ''coord_long'': -122.002508}, {''ranking'': 1L, ''poi_type'': ''Landmark'', ''num_reviews'': 909.0, ''address'': ''Santa Cruz, California, 95060, United States'', ''adjusted_visit_length'': 30.0, ''id'': 9378L, ''review_score'': 4.5, ''name'': ''West Cliff Drive'', ''route'': 11, ''coord_lat'': 36.9741171, ''coord_long'': -122.0307963}, {''ranking'': 4L, ''poi_type'': ''Landmark'', ''num_reviews'': 857.0, ''address'': ''Beach Street, Santa Cruz, California, United States'', ''adjusted_visit_length'': 30.0, ''id'': 9381L, ''review_score'': 4.0, ''name'': ''Santa Cruz Wharf'', ''route'': 11, ''coord_lat'': 36.9644165, ''coord_long'': -122.0194475}, {''ranking'': 13L, ''poi_type'': ''Park'', ''num_reviews'': 191.0, ''address'': ''Beach Street, Santa Cruz, California, United States'', ''adjusted_visit_length'': 60.0, ''id'': 9389L, ''review_score'': 4.0, ''name'': ''Santa Cruz Main Beach'', ''route'': 11, ''coord_lat'': 36.9644165, ''coord_long'': -122.0194475}]\",\n",
       "        'big', '[ 9382.  9378.  9381.  9389.]', '11', 'cultural'], \n",
       "       dtype='|S2291'),\n",
       " array(['CALIFORNIA-SAN-FRANCISCO-S-1-1-4', 'True', 'True', 'San Francisco',\n",
       "        'California', 'S',\n",
       "        \"[{''ranking'': 3L, ''poi_type'': ''Park'', ''num_reviews'': 89.0, ''address'': ''The Alameda, Santa Clara, California, 95050, United States'', ''adjusted_visit_length'': 60.0, ''id'': 4621L, ''review_score'': 4.5, ''name'': ''Mission Santa Clara de Asis'', ''route'': 4, ''coord_lat'': 37.3539663, ''coord_long'': -121.9529992}, {''ranking'': 1L, ''poi_type'': ''Park'', ''num_reviews'': 330.0, ''address'': ''Naglee Avenue & Dana Ave, San Jose, California, 95216, United States'', ''adjusted_visit_length'': 60.0, ''id'': 245L, ''review_score'': 4.5, ''name'': ''Municipal Rose Garden'', ''route'': 4, ''coord_lat'': 37.3318383, ''coord_long'': -121.9268411}, {''ranking'': 2L, ''poi_type'': ''Museum'', ''num_reviews'': 567.0, ''address'': ''1660 Park Avenue, San Jose, California, 95191, United States'', ''adjusted_visit_length'': 120.0, ''id'': 246L, ''review_score'': 4.5, ''name'': ''Rosicrucian Egyptian Museum'', ''route'': 4, ''coord_lat'': 37.3334864, ''coord_long'': -121.9228839}, {''ranking'': 17L, ''poi_type'': ''Shopping'', ''num_reviews'': 99.0, ''address'': ''87 N San Pedro St, San Jose, California, 95110, United States'', ''adjusted_visit_length'': 30.0, ''id'': 261L, ''review_score'': 4.0, ''name'': ''San Pedro Square Market'', ''route'': 4, ''coord_lat'': 37.3365213, ''coord_long'': -121.8943208}, {''ranking'': 9L, ''poi_type'': ''Park'', ''num_reviews'': 140.0, ''address'': ''Senter Rd, San Jose, California, 95112, United States'', ''adjusted_visit_length'': 60.0, ''id'': 253L, ''review_score'': 4.5, ''name'': ''Japanese Friendship Garden'', ''route'': 4, ''coord_lat'': 37.3456227, ''coord_long'': -121.8847222}, {''ranking'': 10L, ''poi_type'': ''Park'', ''num_reviews'': 136.0, ''address'': ''San Jose, California, United States'', ''adjusted_visit_length'': 60.0, ''id'': 254L, ''review_score'': 4.5, ''name'': ''Los Gatos Creek Trail'', ''route'': 4, ''coord_lat'': 37.3382082, ''coord_long'': -121.8863286}, {''ranking'': 6L, ''poi_type'': ''Landmark'', ''num_reviews'': 195.0, ''address'': ''80 South Market Street, San Jose, California, 95113, United States'', ''adjusted_visit_length'': 30.0, ''id'': 250L, ''review_score'': 4.5, ''name'': ''Cathedral Basilica of St. Joseph'', ''route'': 4, ''coord_lat'': 37.3341062, ''coord_long'': -121.8904534}]\",\n",
       "        'med', '[ 4621.   245.   246.   261.   253.   254.   250.]', '4',\n",
       "        'family'], \n",
       "       dtype='|S2291'),\n",
       " array(['CALIFORNIA-SAN-FRANCISCO-S-1-1-7', 'True', 'True', 'San Francisco',\n",
       "        'California', 'S',\n",
       "        '[{\\'\\'ranking\\'\\': 6L, \\'\\'poi_type\\'\\': \\'\\'OutdoorActivities\\'\\', \\'\\'num_reviews\\'\\': 26.0, \\'\\'address\\'\\': \\'\\'1000 San Bruno Ave, Morgan Hill, California, 95037, United States\\'\\', \\'\\'adjusted_visit_length\\'\\': 150.0, \\'\\'id\\'\\': 13323L, \\'\\'review_score\\'\\': 4.5, \\'\\'name\\'\\': \\'\\'Coyote Valley Sporting Clay\\'\\', \\'\\'route\\'\\': 7, \\'\\'coord_lat\\'\\': 37.1540195, \\'\\'coord_long\\'\\': -121.7081309}, {\\'\\'ranking\\'\\': 5L, \\'\\'poi_type\\'\\': \\'\\'Landmark\\'\\', \\'\\'num_reviews\\'\\': 24.0, \\'\\'address\\'\\': \\'\\'1615 Half Road, Morgan Hill, California, 95037, United States\\'\\', \\'\\'adjusted_visit_length\\'\\': 30.0, \\'\\'id\\'\\': 13322L, \\'\\'review_score\\'\\': 4.5, \\'\\'name\\'\\': \"Andy\\'\\'s Orchard\", \\'\\'route\\'\\': 7, \\'\\'coord_lat\\'\\': 37.1524107, \\'\\'coord_long\\'\\': -121.6369227}, {\\'\\'ranking\\'\\': 2L, \\'\\'poi_type\\'\\': \\'\\'Food\\'\\', \\'\\'num_reviews\\'\\': 59.0, \\'\\'address\\'\\': \\'\\'1480 E. Main Avenue, Morgan Hill, California, 95037, United States\\'\\', \\'\\'adjusted_visit_length\\'\\': 60.0, \\'\\'id\\'\\': 13319L, \\'\\'review_score\\'\\': 4.5, \\'\\'name\\'\\': \\'\\'Guglielmo Winery\\'\\', \\'\\'route\\'\\': 7, \\'\\'coord_lat\\'\\': 37.145724, \\'\\'coord_long\\'\\': -121.6343234}, {\\'\\'ranking\\'\\': 4L, \\'\\'poi_type\\'\\': \\'\\'Food\\'\\', \\'\\'num_reviews\\'\\': 19.0, \\'\\'address\\'\\': \\'\\'Morgan Hill, California, 95038, United States\\'\\', \\'\\'adjusted_visit_length\\'\\': 60.0, \\'\\'id\\'\\': 13321L, \\'\\'review_score\\'\\': 5.0, \\'\\'name\\'\\': \\'\\'California Passport\\'\\', \\'\\'route\\'\\': 7, \\'\\'coord_lat\\'\\': 37.13, \\'\\'coord_long\\'\\': -121.65}, {\\'\\'ranking\\'\\': 4L, \\'\\'poi_type\\'\\': \\'\\'Food\\'\\', \\'\\'num_reviews\\'\\': 22.0, \\'\\'address\\'\\': \\'\\'11550 Watsonville Rd, Gilroy, California, 95020, United States\\'\\', \\'\\'adjusted_visit_length\\'\\': 60.0, \\'\\'id\\'\\': 11151L, \\'\\'review_score\\'\\': 4.0, \\'\\'name\\'\\': \\'\\'Kirigin Cellars Winery\\'\\', \\'\\'route\\'\\': 7, \\'\\'coord_lat\\'\\': 37.0467288, \\'\\'coord_long\\'\\': -121.6526903}]',\n",
       "        'med', '[ 13323.  13322.  13319.  13321.  11151.]', '7', 'lifestyle'], \n",
       "       dtype='|S2291')]"
      ]
     },
     "execution_count": 81,
     "metadata": {},
     "output_type": "execute_result"
    }
   ],
   "source": [
    "final"
   ]
  },
  {
   "cell_type": "code",
   "execution_count": 35,
   "metadata": {
    "collapsed": false
   },
   "outputs": [],
   "source": [
    "def clean_details(details_theme):\n",
    "    details_array= np.array(details_theme)\n",
    "    final = []\n",
    "    used =[]\n",
    "    for count, i, in enumerate(details_array):  \n",
    "        if (i[0] == \"national_park\") or (i[0] == \"theme_park\"):  #select all national park & theme park \n",
    "            final.extend(i[4]) #save all details together\n",
    "            used.append(count) #save the count of those park\n",
    "    details_array = np.delete(details_array, used, axis = 0)  #remove them from array\n",
    "    a= np.array(sorted(details_array, key=lambda x: (x[2], -x[1], -x[3] ))) #sorted the item base on ranking, num_review, review_score\n",
    "    \n",
    "    theme_select_dict={}\n",
    "    backup =[]\n",
    "    # a[:,0:4]\n",
    "    for count, i in enumerate(a):\n",
    "        if i[0] not in theme_select_dict:\n",
    "            theme_select_dict[i[0]] = 1 #use dict to check for only one of each theme is choose\n",
    "            final.extend(i[4])\n",
    "        else:\n",
    "            backup.extend(i[4]) #backup for those didnt use \n",
    "    return final"
   ]
  },
  {
   "cell_type": "code",
   "execution_count": null,
   "metadata": {
    "collapsed": false
   },
   "outputs": [],
   "source": []
  },
  {
   "cell_type": "code",
   "execution_count": null,
   "metadata": {
    "collapsed": false
   },
   "outputs": [],
   "source": [
    "def assign_theme(details):\n",
    "    assign_dict={\"family\" : 0,\"lifestyle\": 0,\"nature\": 0,\"cultural\": 0,\"theme_park\": 0,\"national_park\": 0,\"other_list\": 0}\n",
    "    \n",
    "    assign_dict2={\"family\" : 0,\"lifestyle\": 0,\"nature\": 0,\"cultural\": 0,\"theme_park\": 0,\"national_park\": 0,\"other_list\": 0}\n",
    "    \n",
    "    assign_dict3={\"family\" : -1,\"lifestyle\": -1,\"nature\": -1,\"cultural\": -1,\"theme_park\": -1,\"national_park\": -1,\"other_list\": -1}\n",
    "\n",
    "    #create a list for each poi\n",
    "    all_type=[]\n",
    "    for i in details:\n",
    "        all_type.append([i[\"poi_type\"],i[\"adjusted_visit_length\"], i[\"num_reviews\"], i[\"ranking\"]])\n",
    "\n",
    "    for i in all_type:\n",
    "        for key, value in theme_list_dict.items():\n",
    "            if i[0] in value: #locate the theme \n",
    "                assign_dict[key] += int(i[1]) #total time of theme\n",
    "                assign_dict2[key] += int(i[2]) #total # of review of theme\n",
    "                if assign_dict3[key] <0:\n",
    "                    assign_dict3[key] = int(i[3])\n",
    "                else:\n",
    "                    assign_dict3[key] = min(assign_dict3[key], int(i[3]))\n",
    "    assign_dict = sort_dict(assign_dict) #order descending \n",
    "    \n",
    "    if assign_dict[0][0] == assign_dict[1][0]: #check if the total time is same \n",
    "        if assign_dict2[assign_dict[0][1]] > assign_dict2[assign_dict[1][1]]:  #check number of review\n",
    "            return assign_dict[0][1]\n",
    "        elif assign_dict2[assign_dict[0][1]] < assign_dict2[assign_dict[1][1]]:\n",
    "            return assign_dict[1][1]\n",
    "        elif assign_dict3[assign_dict[0][1]] < assign_dict3[assign_dict[1][1]]: #check for ranking\n",
    "            return assign_dict[0][1]\n",
    "        else:\n",
    "            return assign_dict[1][1]\n",
    "\n",
    "            \n",
    "    return assign_dict[0][1]\n"
   ]
  },
  {
   "cell_type": "code",
   "execution_count": null,
   "metadata": {
    "collapsed": true
   },
   "outputs": [],
   "source": []
  },
  {
   "cell_type": "code",
   "execution_count": null,
   "metadata": {
    "collapsed": true
   },
   "outputs": [],
   "source": [
    "def sort_dict(input_dict):\n",
    "\ttemp_dict = [(input_dict[key], key) for key in input_dict]\n",
    "\ttemp_dict.sort(reverse = True)\n",
    "\treturn temp_dict"
   ]
  },
  {
   "cell_type": "code",
   "execution_count": null,
   "metadata": {
    "collapsed": false
   },
   "outputs": [],
   "source": [
    "print assign_theme(details)"
   ]
  },
  {
   "cell_type": "code",
   "execution_count": null,
   "metadata": {
    "collapsed": false
   },
   "outputs": [],
   "source": [
    "theme_list_dict = {\n",
    "    \"family\" : [\"Park\",\"Zoo\",\"Game\"],\n",
    "    \"lifestyle\" : [\"Nightlife\",\"Shopping\",\"Theater\",\"Food\",\"Spa\",\"Casino\",\"Show\",\"ShoppingMall\",\"Show\"],\n",
    "    \"nature\" : [\"StatePark\",\"NationalWildlifeRefuge\",\"NationalHistoricalPark\",\"NationalForest\",\"NationalMonument\",\"NationalMemorial\"],\n",
    "    \"cultural\" : [\"Landmark\", \"Museum\",\"OutdoorActivities\",\"Library\",\"Stadium\"],\n",
    "    \"theme_park\" : [\"ThemePark\"],\n",
    "    \"national_park\" : [\"NationalPark\"],\n",
    "    \"other_list\" : [\"Other\",\"VisotorCenter\",\"Transportation\",\"Tour\"]\n",
    "    }"
   ]
  },
  {
   "cell_type": "code",
   "execution_count": null,
   "metadata": {
    "collapsed": false
   },
   "outputs": [],
   "source": [
    "museum =300\n",
    "theater =60\n",
    "landmark = 60\n",
    "visitorCenter =15"
   ]
  },
  {
   "cell_type": "code",
   "execution_count": null,
   "metadata": {
    "collapsed": true
   },
   "outputs": [],
   "source": [
    "theme={}\n",
    "theme_list = [\"family\",\"lifestyle\",\"nature\",\"cultural\",\"theme_park\",\"national_park\"]\n",
    "for i in theme_list:\n",
    "    theme[i]= 0"
   ]
  },
  {
   "cell_type": "code",
   "execution_count": null,
   "metadata": {
    "collapsed": false
   },
   "outputs": [],
   "source": [
    "poi = pd.read_csv(\"poi_detail_table_final_v1.csv\", encoding=('utf-8'), index_col= 0)"
   ]
  },
  {
   "cell_type": "code",
   "execution_count": null,
   "metadata": {
    "collapsed": false
   },
   "outputs": [],
   "source": [
    "poi_type_u= set(poi.poi_type.str.encode('utf8'))\n",
    "poi_type= list(poi.poi_type.str.encode('utf8'))\n"
   ]
  },
  {
   "cell_type": "code",
   "execution_count": null,
   "metadata": {
    "collapsed": false
   },
   "outputs": [],
   "source": [
    "from collections import Counter\n",
    "counts = Counter(poi_type)\n",
    "add = 0\n",
    "for i in counts.items():\n",
    "    add += i[1]\n",
    "print add\n",
    "# print counts.items()[0][1]"
   ]
  },
  {
   "cell_type": "code",
   "execution_count": null,
   "metadata": {
    "collapsed": false
   },
   "outputs": [],
   "source": [
    "# d = {'key': 'value'}\n",
    "# word_count_dict = {}\n",
    "# for key, values in d.items():\n",
    "#     if values[1] in temp_dict:\n",
    "#         temp_dict[values[1]] = temp_dict[values[1]] + 1\n",
    "#     else:\n",
    "#         temp_dict[values[1]] = 1"
   ]
  },
  {
   "cell_type": "code",
   "execution_count": null,
   "metadata": {
    "collapsed": false
   },
   "outputs": [],
   "source": [
    "# from collections import defaultdict\n",
    "# d = defaultdict(int)\n",
    "\n",
    "# for word in poi_type:\n",
    "#     d[word] += 1\n"
   ]
  },
  {
   "cell_type": "code",
   "execution_count": null,
   "metadata": {
    "collapsed": false
   },
   "outputs": [],
   "source": [
    "poi_type_dict={}\n",
    "for i in poi_type_u:\n",
    "    poi_type_dict[i] = poi_type.count(i)"
   ]
  },
  {
   "cell_type": "code",
   "execution_count": null,
   "metadata": {
    "collapsed": false
   },
   "outputs": [],
   "source": [
    "def sortFreqDict(freqdict):\n",
    "    aux = [(freqdict[key], key) for key in freqdict]\n",
    "    aux.sort(reverse=True)\n",
    "#     aux.reverse()\n",
    "    return aux"
   ]
  },
  {
   "cell_type": "code",
   "execution_count": null,
   "metadata": {
    "collapsed": false
   },
   "outputs": [],
   "source": [
    "sortFreqDict(poi_type_dict)"
   ]
  },
  {
   "cell_type": "code",
   "execution_count": null,
   "metadata": {
    "collapsed": false
   },
   "outputs": [],
   "source": [
    "poi[poi.poi_type == \"NationalHistoricalPark\"].name"
   ]
  },
  {
   "cell_type": "code",
   "execution_count": null,
   "metadata": {
    "collapsed": false
   },
   "outputs": [],
   "source": []
  },
  {
   "cell_type": "code",
   "execution_count": null,
   "metadata": {
    "collapsed": false
   },
   "outputs": [],
   "source": [
    "poi.info()"
   ]
  },
  {
   "cell_type": "code",
   "execution_count": null,
   "metadata": {
    "collapsed": false
   },
   "outputs": [],
   "source": [
    "# conn_str = \"dbname='travel_with_friends' user='Gon' host='localhost'\"\n",
    "with open('api_key_list.config') as key_file:\n",
    "    api_key_list = json.load(key_file)\n",
    "conn_str = api_key_list[\"conn_str\"]\n",
    "engine_str = api_key_list[\"engine\"]\n",
    "engine = create_engine(engine_str)"
   ]
  },
  {
   "cell_type": "code",
   "execution_count": null,
   "metadata": {
    "collapsed": false
   },
   "outputs": [],
   "source": [
    "# import psycopg2\n",
    "# conn = psycopg2.connect(conn_str)   \n",
    "# cur = conn.cursor()\n",
    "# poi.to_sql('poi_detail_table_final_v1',engine, index=True, if_exists = \"replace\")\n",
    "# conn.close"
   ]
  },
  {
   "cell_type": "code",
   "execution_count": null,
   "metadata": {
    "collapsed": false
   },
   "outputs": [],
   "source": [
    "a= [1.5,2,3,4,5.5,[\"hel\"]]\n"
   ]
  },
  {
   "cell_type": "code",
   "execution_count": null,
   "metadata": {
    "collapsed": true
   },
   "outputs": [],
   "source": [
    "\n",
    "a= np.array(a)"
   ]
  },
  {
   "cell_type": "code",
   "execution_count": null,
   "metadata": {
    "collapsed": false
   },
   "outputs": [],
   "source": [
    "a[[0,4,5]]"
   ]
  },
  {
   "cell_type": "code",
   "execution_count": null,
   "metadata": {
    "collapsed": true
   },
   "outputs": [],
   "source": []
  }
 ],
 "metadata": {
  "kernelspec": {
   "display_name": "Python [conda env:python2]",
   "language": "python",
   "name": "conda-env-python2-py"
  },
  "language_info": {
   "codemirror_mode": {
    "name": "ipython",
    "version": 2
   },
   "file_extension": ".py",
   "mimetype": "text/x-python",
   "name": "python",
   "nbconvert_exporter": "python",
   "pygments_lexer": "ipython2",
   "version": "2.7.12"
  }
 },
 "nbformat": 4,
 "nbformat_minor": 1
}
