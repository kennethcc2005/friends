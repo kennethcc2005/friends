{
 "cells": [
  {
   "cell_type": "code",
   "execution_count": 2,
   "metadata": {
    "collapsed": true
   },
   "outputs": [],
   "source": [
    "import pandas as pd\n",
    "import numpy as py"
   ]
  },
  {
   "cell_type": "code",
   "execution_count": 69,
   "metadata": {
    "collapsed": false
   },
   "outputs": [],
   "source": [
    "# poi = pd.read_csv(\"poi_detail_table_final_v2.csv\", encoding = ('utf-8'), index_col =0)\n",
    "poi.to_csv(\"poi_detail_table_final_v2.csv\", encoding = ('utf-8'))"
   ]
  },
  {
   "cell_type": "code",
   "execution_count": 67,
   "metadata": {
    "collapsed": false
   },
   "outputs": [],
   "source": [
    "poi.coord_lat.loc[5051] = 34.2337769\n",
    "poi.coord_long.loc[5051] = -77.9469075\n",
    "\n",
    "# 34.2337769, -77.9469075"
   ]
  },
  {
   "cell_type": "code",
   "execution_count": null,
   "metadata": {
    "collapsed": true
   },
   "outputs": [],
   "source": []
  },
  {
   "cell_type": "code",
   "execution_count": 53,
   "metadata": {
    "collapsed": false
   },
   "outputs": [],
   "source": [
    "poi.replace({ \"'s \" : \"%27s \" }, regex=True, inplace = True)"
   ]
  },
  {
   "cell_type": "code",
   "execution_count": 50,
   "metadata": {
    "collapsed": false
   },
   "outputs": [
    {
     "data": {
      "text/html": [
       "<div>\n",
       "<table border=\"1\" class=\"dataframe\">\n",
       "  <thead>\n",
       "    <tr style=\"text-align: right;\">\n",
       "      <th></th>\n",
       "      <th>address</th>\n",
       "      <th>adjusted_visit_length</th>\n",
       "      <th>city</th>\n",
       "      <th>coord_lat</th>\n",
       "      <th>coord_long</th>\n",
       "      <th>country</th>\n",
       "      <th>county</th>\n",
       "      <th>description</th>\n",
       "      <th>fee</th>\n",
       "      <th>geo_content</th>\n",
       "      <th>...</th>\n",
       "      <th>review_score</th>\n",
       "      <th>state</th>\n",
       "      <th>state_abb</th>\n",
       "      <th>street_address</th>\n",
       "      <th>tag</th>\n",
       "      <th>url</th>\n",
       "      <th>icon_url</th>\n",
       "      <th>check_full_address</th>\n",
       "      <th>img_url</th>\n",
       "      <th>interesting</th>\n",
       "    </tr>\n",
       "  </thead>\n",
       "  <tbody>\n",
       "  </tbody>\n",
       "</table>\n",
       "<p>0 rows × 26 columns</p>\n",
       "</div>"
      ],
      "text/plain": [
       "Empty DataFrame\n",
       "Columns: [address, adjusted_visit_length, city, coord_lat, coord_long, country, county, description, fee, geo_content, name, num_reviews, poi_type, postal_code, ranking, raw_visit_length, review_score, state, state_abb, street_address, tag, url, icon_url, check_full_address, img_url, interesting]\n",
       "Index: []\n",
       "\n",
       "[0 rows x 26 columns]"
      ]
     },
     "execution_count": 50,
     "metadata": {},
     "output_type": "execute_result"
    }
   ],
   "source": [
    "poi2[poi2.name.str.contains(\"%27\")]"
   ]
  },
  {
   "cell_type": "code",
   "execution_count": 58,
   "metadata": {
    "collapsed": false
   },
   "outputs": [
    {
     "data": {
      "text/html": [
       "<div>\n",
       "<table border=\"1\" class=\"dataframe\">\n",
       "  <thead>\n",
       "    <tr style=\"text-align: right;\">\n",
       "      <th></th>\n",
       "      <th>name</th>\n",
       "      <th>county</th>\n",
       "      <th>city</th>\n",
       "    </tr>\n",
       "  </thead>\n",
       "  <tbody>\n",
       "    <tr>\n",
       "      <th>350</th>\n",
       "      <td>Riverwalk</td>\n",
       "      <td>DUVAL</td>\n",
       "      <td>Jacksonville</td>\n",
       "    </tr>\n",
       "    <tr>\n",
       "      <th>1670</th>\n",
       "      <td>Riverwalk</td>\n",
       "      <td>HAMILTON</td>\n",
       "      <td>Cincinnati</td>\n",
       "    </tr>\n",
       "    <tr>\n",
       "      <th>2796</th>\n",
       "      <td>Riverwalk</td>\n",
       "      <td>RICHMOND</td>\n",
       "      <td>Augusta</td>\n",
       "    </tr>\n",
       "    <tr>\n",
       "      <th>3890</th>\n",
       "      <td>Riverwalk</td>\n",
       "      <td>DUPAGE</td>\n",
       "      <td>Naperville</td>\n",
       "    </tr>\n",
       "    <tr>\n",
       "      <th>5051</th>\n",
       "      <td>Riverwalk</td>\n",
       "      <td>BEXAR</td>\n",
       "      <td>Wilmington</td>\n",
       "    </tr>\n",
       "    <tr>\n",
       "      <th>10184</th>\n",
       "      <td>Riverwalk</td>\n",
       "      <td>PALM BEACH</td>\n",
       "      <td>Jupiter</td>\n",
       "    </tr>\n",
       "    <tr>\n",
       "      <th>10225</th>\n",
       "      <td>Riverwalk</td>\n",
       "      <td>DUBUQUE</td>\n",
       "      <td>Dubuque</td>\n",
       "    </tr>\n",
       "    <tr>\n",
       "      <th>11131</th>\n",
       "      <td>Riverwalk</td>\n",
       "      <td>MANATEE</td>\n",
       "      <td>Bradenton</td>\n",
       "    </tr>\n",
       "  </tbody>\n",
       "</table>\n",
       "</div>"
      ],
      "text/plain": [
       "            name      county          city\n",
       "350    Riverwalk       DUVAL  Jacksonville\n",
       "1670   Riverwalk    HAMILTON    Cincinnati\n",
       "2796   Riverwalk    RICHMOND       Augusta\n",
       "3890   Riverwalk      DUPAGE    Naperville\n",
       "5051   Riverwalk       BEXAR    Wilmington\n",
       "10184  Riverwalk  PALM BEACH       Jupiter\n",
       "10225  Riverwalk     DUBUQUE       Dubuque\n",
       "11131  Riverwalk     MANATEE     Bradenton"
      ]
     },
     "execution_count": 58,
     "metadata": {},
     "output_type": "execute_result"
    }
   ],
   "source": [
    "poi[poi.name == \"Riverwalk\"][[\"name\", \"county\", \"city\"]]"
   ]
  },
  {
   "cell_type": "code",
   "execution_count": 68,
   "metadata": {
    "collapsed": false
   },
   "outputs": [
    {
     "data": {
      "text/plain": [
       "address                  From Nutt St to Nunn Street, Wilmington, North...\n",
       "adjusted_visit_length                                                   30\n",
       "city                                                            Wilmington\n",
       "coord_lat                                                          34.2338\n",
       "coord_long                                                        -77.9469\n",
       "country                                                      United States\n",
       "county                                                               BEXAR\n",
       "description                                                            NaN\n",
       "fee                                                                Unknown\n",
       "geo_content              {u'status': u'OK', u'results': [{u'geometry': ...\n",
       "name                                                             Riverwalk\n",
       "num_reviews                                                            790\n",
       "poi_type                                                          Landmark\n",
       "postal_code                                                          28401\n",
       "ranking                                                                  6\n",
       "raw_visit_length                                                       NaN\n",
       "review_score                                                           4.5\n",
       "state                                                       North Carolina\n",
       "state_abb                                                               NC\n",
       "street_address                                 From Nutt St to Nunn Street\n",
       "tag                      Points of Interest & Landmarks, Sights & Landm...\n",
       "url                      http://www.tripadvisor.com/Attraction_Review-g...\n",
       "icon_url                 https://s3.amazonaws.com/travel-with-friends/i...\n",
       "check_full_address                                                       1\n",
       "img_url                  https://s3.amazonaws.com/travel-with-friends/i...\n",
       "interesting                                                           True\n",
       "Name: 5051, dtype: object"
      ]
     },
     "execution_count": 68,
     "metadata": {},
     "output_type": "execute_result"
    }
   ],
   "source": [
    "poi.loc[5051]"
   ]
  },
  {
   "cell_type": "code",
   "execution_count": 40,
   "metadata": {
    "collapsed": false
   },
   "outputs": [],
   "source": [
    "poi2.loc[4619].replace(\"[']\",\"%27\", inplace = True, regex = True)"
   ]
  },
  {
   "cell_type": "code",
   "execution_count": 41,
   "metadata": {
    "collapsed": false
   },
   "outputs": [
    {
     "data": {
      "text/plain": [
       "address                  4900 Marie P Debartolo Way, Santa Clara, Calif...\n",
       "adjusted_visit_length                                                  360\n",
       "city                                                           Santa Clara\n",
       "coord_lat                                                          37.4028\n",
       "coord_long                                                        -121.971\n",
       "country                                                      United States\n",
       "county                                                         SANTA CLARA\n",
       "description                                                            NaN\n",
       "fee                                                                Unknown\n",
       "geo_content              {u'status': u'OK', u'results': [{u'geometry': ...\n",
       "name                                                        Levi's Stadium\n",
       "num_reviews                                                            671\n",
       "poi_type                                                          Landmark\n",
       "postal_code                                                     95054-1100\n",
       "ranking                                                                  1\n",
       "raw_visit_length                                         More than 3 hours\n",
       "review_score                                                             4\n",
       "state                                                           California\n",
       "state_abb                                                               CA\n",
       "street_address                                  4900 Marie P Debartolo Way\n",
       "tag                                  Arenas & Stadiums, Sights & Landmarks\n",
       "url                      http://www.tripadvisor.com/Attraction_Review-g...\n",
       "icon_url                 https://s3.amazonaws.com/travel-with-friends/i...\n",
       "check_full_address                                                       1\n",
       "img_url                  https://s3.amazonaws.com/travel-with-friends/i...\n",
       "interesting                                                           True\n",
       "Name: 4619, dtype: object"
      ]
     },
     "execution_count": 41,
     "metadata": {},
     "output_type": "execute_result"
    }
   ],
   "source": [
    "poi2.loc[4619]"
   ]
  },
  {
   "cell_type": "code",
   "execution_count": null,
   "metadata": {
    "collapsed": true
   },
   "outputs": [],
   "source": []
  },
  {
   "cell_type": "code",
   "execution_count": 263,
   "metadata": {
    "collapsed": false
   },
   "outputs": [],
   "source": [
    "a = poi[poi.poi_type.str.contains(\"Tour\")][['name','tag','poi_type', 'num_reviews', 'ranking','interesting']].index\n",
    "poi.interesting.loc[a] = False"
   ]
  },
  {
   "cell_type": "code",
   "execution_count": 235,
   "metadata": {
    "collapsed": false
   },
   "outputs": [
    {
     "name": "stderr",
     "output_type": "stream",
     "text": [
      "/Users/Gon/anaconda3/envs/python2/lib/python2.7/site-packages/ipykernel/__main__.py:1: UserWarning: Boolean Series key will be reindexed to match DataFrame index.\n",
      "  if __name__ == '__main__':\n",
      "/Users/Gon/anaconda3/envs/python2/lib/python2.7/site-packages/ipykernel/__main__.py:2: UserWarning: Boolean Series key will be reindexed to match DataFrame index.\n",
      "  from ipykernel import kernelapp as app\n"
     ]
    },
    {
     "data": {
      "text/html": [
       "<div>\n",
       "<table border=\"1\" class=\"dataframe\">\n",
       "  <thead>\n",
       "    <tr style=\"text-align: right;\">\n",
       "      <th></th>\n",
       "      <th>name</th>\n",
       "      <th>tag</th>\n",
       "      <th>poi_type</th>\n",
       "      <th>num_reviews</th>\n",
       "      <th>ranking</th>\n",
       "    </tr>\n",
       "  </thead>\n",
       "  <tbody>\n",
       "  </tbody>\n",
       "</table>\n",
       "</div>"
      ],
      "text/plain": [
       "Empty DataFrame\n",
       "Columns: [name, tag, poi_type, num_reviews, ranking]\n",
       "Index: []"
      ]
     },
     "execution_count": 235,
     "metadata": {},
     "output_type": "execute_result"
    }
   ],
   "source": [
    "SP = poi[poi.poi_type == \"StatePark\"][~poi.name.str.contains(\"Park\")].index\n",
    "poi.loc[SP][~poi.tag.str.contains(\"Park\", na=False)][['name','tag','poi_type', 'num_reviews', 'ranking']]\n",
    "\n",
    "# poi.poi_type.loc[a.index] = \"Game\"\n"
   ]
  },
  {
   "cell_type": "code",
   "execution_count": 237,
   "metadata": {
    "collapsed": false
   },
   "outputs": [
    {
     "data": {
      "text/plain": [
       "901      Unuse_theater\n",
       "1365     Unuse_theater\n",
       "1438     Unuse_theater\n",
       "1476     Unuse_theater\n",
       "1529     Unuse_theater\n",
       "1987     Unuse_theater\n",
       "1997     Unuse_theater\n",
       "2121     Unuse_theater\n",
       "2167     Unuse_theater\n",
       "2337     Unuse_theater\n",
       "2694     Unuse_theater\n",
       "2697     Unuse_theater\n",
       "2746     Unuse_theater\n",
       "2820     Unuse_theater\n",
       "3061     Unuse_theater\n",
       "3118     Unuse_theater\n",
       "3154     Unuse_theater\n",
       "3284     Unuse_theater\n",
       "3372     Unuse_theater\n",
       "3437     Unuse_theater\n",
       "3511     Unuse_theater\n",
       "3559     Unuse_theater\n",
       "3602     Unuse_theater\n",
       "3616     Unuse_theater\n",
       "3617     Unuse_theater\n",
       "3776     Unuse_theater\n",
       "3824     Unuse_theater\n",
       "3837     Unuse_theater\n",
       "3853     Unuse_theater\n",
       "3888     Unuse_theater\n",
       "             ...      \n",
       "13130    Unuse_theater\n",
       "13196    Unuse_theater\n",
       "13197    Unuse_theater\n",
       "13212    Unuse_theater\n",
       "13217    Unuse_theater\n",
       "13231    Unuse_theater\n",
       "13266    Unuse_theater\n",
       "13296    Unuse_theater\n",
       "13297    Unuse_theater\n",
       "13314    Unuse_theater\n",
       "13330    Unuse_theater\n",
       "13361    Unuse_theater\n",
       "13379    Unuse_theater\n",
       "13395    Unuse_theater\n",
       "13451    Unuse_theater\n",
       "13462    Unuse_theater\n",
       "13529    Unuse_theater\n",
       "13548    Unuse_theater\n",
       "13594    Unuse_theater\n",
       "13615    Unuse_theater\n",
       "13636    Unuse_theater\n",
       "13673    Unuse_theater\n",
       "13866    Unuse_theater\n",
       "13927    Unuse_theater\n",
       "14032    Unuse_theater\n",
       "14085    Unuse_theater\n",
       "14131    Unuse_theater\n",
       "14160    Unuse_theater\n",
       "14167    Unuse_theater\n",
       "14198    Unuse_theater\n",
       "Name: poi_type, dtype: object"
      ]
     },
     "execution_count": 237,
     "metadata": {},
     "output_type": "execute_result"
    }
   ],
   "source": [
    "poi[poi.poi_type == \"Unuse_theater\"].poi_type"
   ]
  },
  {
   "cell_type": "code",
   "execution_count": 202,
   "metadata": {
    "collapsed": false
   },
   "outputs": [
    {
     "name": "stderr",
     "output_type": "stream",
     "text": [
      "/Users/Gon/anaconda3/envs/python2/lib/python2.7/site-packages/ipykernel/__main__.py:1: UserWarning: Boolean Series key will be reindexed to match DataFrame index.\n",
      "  if __name__ == '__main__':\n"
     ]
    },
    {
     "data": {
      "text/plain": [
       "Series([], Name: poi_type, dtype: object)"
      ]
     },
     "execution_count": 202,
     "metadata": {},
     "output_type": "execute_result"
    }
   ],
   "source": [
    "aa = poi[poi.name.str.contains('Museum*|Historic Site*')][poi.poi_type != \"Museum\"][poi.tag.str.contains(\"Museum\", na = False)][['name','tag','poi_type', 'num_reviews', 'ranking']].index\n",
    "poi[\"poi_type\"].loc[aa]"
   ]
  },
  {
   "cell_type": "code",
   "execution_count": 153,
   "metadata": {
    "collapsed": false
   },
   "outputs": [
    {
     "name": "stderr",
     "output_type": "stream",
     "text": [
      "/Users/Gon/anaconda3/envs/python2/lib/python2.7/site-packages/ipykernel/__main__.py:1: UserWarning: Boolean Series key will be reindexed to match DataFrame index.\n",
      "  if __name__ == '__main__':\n"
     ]
    },
    {
     "data": {
      "text/html": [
       "<div>\n",
       "<table border=\"1\" class=\"dataframe\">\n",
       "  <thead>\n",
       "    <tr style=\"text-align: right;\">\n",
       "      <th></th>\n",
       "      <th>address</th>\n",
       "      <th>adjusted_visit_length</th>\n",
       "      <th>city</th>\n",
       "      <th>coord_lat</th>\n",
       "      <th>coord_long</th>\n",
       "      <th>country</th>\n",
       "      <th>county</th>\n",
       "      <th>description</th>\n",
       "      <th>fee</th>\n",
       "      <th>geo_content</th>\n",
       "      <th>...</th>\n",
       "      <th>raw_visit_length</th>\n",
       "      <th>review_score</th>\n",
       "      <th>state</th>\n",
       "      <th>state_abb</th>\n",
       "      <th>street_address</th>\n",
       "      <th>tag</th>\n",
       "      <th>url</th>\n",
       "      <th>icon_url</th>\n",
       "      <th>check_full_address</th>\n",
       "      <th>img_url</th>\n",
       "    </tr>\n",
       "  </thead>\n",
       "  <tbody>\n",
       "  </tbody>\n",
       "</table>\n",
       "<p>0 rows × 25 columns</p>\n",
       "</div>"
      ],
      "text/plain": [
       "Empty DataFrame\n",
       "Columns: [address, adjusted_visit_length, city, coord_lat, coord_long, country, county, description, fee, geo_content, name, num_reviews, poi_type, postal_code, ranking, raw_visit_length, review_score, state, state_abb, street_address, tag, url, icon_url, check_full_address, img_url]\n",
       "Index: []\n",
       "\n",
       "[0 rows x 25 columns]"
      ]
     },
     "execution_count": 153,
     "metadata": {},
     "output_type": "execute_result"
    }
   ],
   "source": [
    "poi[poi.poi_type == \"Transportation\"][poi.name.str.contains(\"Airport\")]\n",
    "# poi['poi_type'].loc[a] = \"Unuse_transportation\""
   ]
  },
  {
   "cell_type": "code",
   "execution_count": 128,
   "metadata": {
    "collapsed": false
   },
   "outputs": [
    {
     "name": "stderr",
     "output_type": "stream",
     "text": [
      "/Users/Gon/anaconda3/envs/python2/lib/python2.7/site-packages/ipykernel/__main__.py:1: UserWarning: Boolean Series key will be reindexed to match DataFrame index.\n",
      "  if __name__ == '__main__':\n"
     ]
    }
   ],
   "source": [
    "a = poi[poi.poi_type == \"Theater\"][poi.num_reviews < 10].index\n",
    "# [['name','tag','poi_type', 'num_reviews', 'ranking']]\n",
    "# poi['poi_type'].loc[a] = \"Unuse_theater\""
   ]
  },
  {
   "cell_type": "code",
   "execution_count": 60,
   "metadata": {
    "collapsed": false
   },
   "outputs": [
    {
     "ename": "ValueError",
     "evalue": "The truth value of a Series is ambiguous. Use a.empty, a.bool(), a.item(), a.any() or a.all().",
     "output_type": "error",
     "traceback": [
      "\u001b[0;31m---------------------------------------------------------------------------\u001b[0m",
      "\u001b[0;31mValueError\u001b[0m                                Traceback (most recent call last)",
      "\u001b[0;32m<ipython-input-60-c050deb251a6>\u001b[0m in \u001b[0;36m<module>\u001b[0;34m()\u001b[0m\n\u001b[0;32m----> 1\u001b[0;31m \u001b[0mpoi\u001b[0m\u001b[0;34m[\u001b[0m\u001b[0;34m(\u001b[0m\u001b[0mpoi\u001b[0m\u001b[0;34m.\u001b[0m\u001b[0mname\u001b[0m\u001b[0;34m.\u001b[0m\u001b[0mstr\u001b[0m\u001b[0;34m.\u001b[0m\u001b[0mcontains\u001b[0m\u001b[0;34m(\u001b[0m\u001b[0;34m'Tour'\u001b[0m\u001b[0;34m,\u001b[0m \u001b[0mcase\u001b[0m\u001b[0;34m=\u001b[0m\u001b[0mFalse\u001b[0m\u001b[0;34m)\u001b[0m \u001b[0;32mand\u001b[0m \u001b[0mpoi\u001b[0m\u001b[0;34m.\u001b[0m\u001b[0mtag\u001b[0m\u001b[0;34m.\u001b[0m\u001b[0mstr\u001b[0m\u001b[0;34m.\u001b[0m\u001b[0mcontains\u001b[0m\u001b[0;34m(\u001b[0m\u001b[0;34m'Tour'\u001b[0m\u001b[0;34m)\u001b[0m\u001b[0;34m)\u001b[0m\u001b[0;34m]\u001b[0m\u001b[0;34m[\u001b[0m\u001b[0;34m[\u001b[0m\u001b[0;34m'name'\u001b[0m\u001b[0;34m,\u001b[0m\u001b[0;34m'tag'\u001b[0m\u001b[0;34m,\u001b[0m\u001b[0;34m'poi_type'\u001b[0m\u001b[0;34m]\u001b[0m\u001b[0;34m]\u001b[0m\u001b[0;34m\u001b[0m\u001b[0m\n\u001b[0m",
      "\u001b[0;32m/Users/Gon/anaconda3/envs/python2/lib/python2.7/site-packages/pandas/core/generic.pyc\u001b[0m in \u001b[0;36m__nonzero__\u001b[0;34m(self)\u001b[0m\n\u001b[1;32m    915\u001b[0m         raise ValueError(\"The truth value of a {0} is ambiguous. \"\n\u001b[1;32m    916\u001b[0m                          \u001b[0;34m\"Use a.empty, a.bool(), a.item(), a.any() or a.all().\"\u001b[0m\u001b[0;34m\u001b[0m\u001b[0m\n\u001b[0;32m--> 917\u001b[0;31m                          .format(self.__class__.__name__))\n\u001b[0m\u001b[1;32m    918\u001b[0m \u001b[0;34m\u001b[0m\u001b[0m\n\u001b[1;32m    919\u001b[0m     \u001b[0m__bool__\u001b[0m \u001b[0;34m=\u001b[0m \u001b[0m__nonzero__\u001b[0m\u001b[0;34m\u001b[0m\u001b[0m\n",
      "\u001b[0;31mValueError\u001b[0m: The truth value of a Series is ambiguous. Use a.empty, a.bool(), a.item(), a.any() or a.all()."
     ]
    }
   ],
   "source": [
    "poi[(poi.name.str.contains('Tour', case=False) and poi.tag.str.contains('Tour'))][['name','tag','poi_type']]"
   ]
  },
  {
   "cell_type": "code",
   "execution_count": 96,
   "metadata": {
    "collapsed": false
   },
   "outputs": [
    {
     "data": {
      "text/plain": [
       "(37, 25)"
      ]
     },
     "execution_count": 96,
     "metadata": {},
     "output_type": "execute_result"
    }
   ],
   "source": [
    "a = poi[poi.name.str.contains('Tour')]\n",
    "b= a[a.tag.str.contains('Tour')].shape\n",
    "b\n",
    "# [['name','tag','poi_type']]\n",
    "# poi[\"poi_type\"].loc[b] = \"Tour\""
   ]
  },
  {
   "cell_type": "code",
   "execution_count": 97,
   "metadata": {
    "collapsed": false
   },
   "outputs": [
    {
     "data": {
      "text/html": [
       "<div>\n",
       "<table border=\"1\" class=\"dataframe\">\n",
       "  <thead>\n",
       "    <tr style=\"text-align: right;\">\n",
       "      <th></th>\n",
       "      <th>name</th>\n",
       "      <th>tag</th>\n",
       "      <th>poi_type</th>\n",
       "    </tr>\n",
       "  </thead>\n",
       "  <tbody>\n",
       "    <tr>\n",
       "      <th>566</th>\n",
       "      <td>Stranahan's Colorado Whiskey Tour</td>\n",
       "      <td>Distilleries, Food &amp; Drink</td>\n",
       "      <td>Food</td>\n",
       "    </tr>\n",
       "    <tr>\n",
       "      <th>2186</th>\n",
       "      <td>Scooters Sunday In-House Tournament</td>\n",
       "      <td>Bars &amp; Clubs, Nightlife</td>\n",
       "      <td>Nightlife</td>\n",
       "    </tr>\n",
       "    <tr>\n",
       "      <th>2188</th>\n",
       "      <td>Mack's Fish Camp - Tours</td>\n",
       "      <td>Eco Tours, Fishing Charters &amp; Tours, Tours, Ou...</td>\n",
       "      <td>Tour</td>\n",
       "    </tr>\n",
       "    <tr>\n",
       "      <th>5095</th>\n",
       "      <td>Miami Brew Tours</td>\n",
       "      <td>Beer Tastings &amp; Tours, Tours, Food &amp; Drink</td>\n",
       "      <td>Tour</td>\n",
       "    </tr>\n",
       "    <tr>\n",
       "      <th>5422</th>\n",
       "      <td>NorCal Destinations Private Day Tours</td>\n",
       "      <td>Private Tours, Tours</td>\n",
       "      <td>Tour</td>\n",
       "    </tr>\n",
       "    <tr>\n",
       "      <th>5487</th>\n",
       "      <td>Palm Bay Kayaks Eco Tours</td>\n",
       "      <td>Kayaking &amp; Canoeing, Tours, Outdoor Activities...</td>\n",
       "      <td>Tour</td>\n",
       "    </tr>\n",
       "    <tr>\n",
       "      <th>5548</th>\n",
       "      <td>Warner Bros. Studio Tour Hollywood</td>\n",
       "      <td>Theme Parks, Water &amp; Amusement Parks</td>\n",
       "      <td>ThemePark</td>\n",
       "    </tr>\n",
       "    <tr>\n",
       "      <th>5803</th>\n",
       "      <td>Lake Mirror Historic Tour</td>\n",
       "      <td>Historic Walking Areas, Points of Interest &amp; L...</td>\n",
       "      <td>Landmark</td>\n",
       "    </tr>\n",
       "    <tr>\n",
       "      <th>6006</th>\n",
       "      <td>Celebrity Helicopters Day Tours</td>\n",
       "      <td>Helicopter Tours, Tours</td>\n",
       "      <td>Tour</td>\n",
       "    </tr>\n",
       "    <tr>\n",
       "      <th>6168</th>\n",
       "      <td>Mercedes-Benz US International Visitor Center ...</td>\n",
       "      <td>Visitor Centers, Traveler Resources</td>\n",
       "      <td>VisotorCenter</td>\n",
       "    </tr>\n",
       "    <tr>\n",
       "      <th>6931</th>\n",
       "      <td>Suffolk Division of Tourism Great Dismal Swamp...</td>\n",
       "      <td>Nature &amp; Wildlife Tours, Outdoor Activities, T...</td>\n",
       "      <td>Tour</td>\n",
       "    </tr>\n",
       "    <tr>\n",
       "      <th>8184</th>\n",
       "      <td>AZ Jeep Tours</td>\n",
       "      <td>4WD, ATV &amp; Off-Road Tours, Outdoor Activities,...</td>\n",
       "      <td>Tour</td>\n",
       "    </tr>\n",
       "    <tr>\n",
       "      <th>8246</th>\n",
       "      <td>Adventure West Motorcycle Tours Day Tours</td>\n",
       "      <td>Motorcycle Tours, Tours</td>\n",
       "      <td>Tour</td>\n",
       "    </tr>\n",
       "    <tr>\n",
       "      <th>8645</th>\n",
       "      <td>Tour 18 Dallas</td>\n",
       "      <td>Golf Courses, Sightseeing Tours, Outdoor Activ...</td>\n",
       "      <td>Tour</td>\n",
       "    </tr>\n",
       "    <tr>\n",
       "      <th>9056</th>\n",
       "      <td>Middle Mountain Foundation Interpretive Progra...</td>\n",
       "      <td>Hiking &amp; Camping Tours, Outdoor Activities, Tours</td>\n",
       "      <td>Tour</td>\n",
       "    </tr>\n",
       "    <tr>\n",
       "      <th>9759</th>\n",
       "      <td>Green Motion Segway Tours</td>\n",
       "      <td>Segway Tours, Tours</td>\n",
       "      <td>Tour</td>\n",
       "    </tr>\n",
       "    <tr>\n",
       "      <th>10258</th>\n",
       "      <td>Historic Los Angeles Arboretum Tour</td>\n",
       "      <td>Cultural Tours, Walking Tours, Tours, Historic...</td>\n",
       "      <td>Tour</td>\n",
       "    </tr>\n",
       "    <tr>\n",
       "      <th>10302</th>\n",
       "      <td>Farm Tours of Ocala</td>\n",
       "      <td>Ranches, Farms, Sights &amp; Landmarks</td>\n",
       "      <td>Landmark</td>\n",
       "    </tr>\n",
       "    <tr>\n",
       "      <th>10394</th>\n",
       "      <td>Vino 301 Wine Concierge - Tours</td>\n",
       "      <td>Wine Tours &amp; Tastings, Private Tours, Food &amp; D...</td>\n",
       "      <td>Tour</td>\n",
       "    </tr>\n",
       "    <tr>\n",
       "      <th>10422</th>\n",
       "      <td>Good Times Travel Day Tours</td>\n",
       "      <td>Private Tours, Tours</td>\n",
       "      <td>Tour</td>\n",
       "    </tr>\n",
       "    <tr>\n",
       "      <th>10430</th>\n",
       "      <td>Geo Savvy Tours- Day Tours</td>\n",
       "      <td>Sightseeing Tours, Tours</td>\n",
       "      <td>Tour</td>\n",
       "    </tr>\n",
       "    <tr>\n",
       "      <th>11083</th>\n",
       "      <td>Rickshaw Rick's Tours &amp; Taxi</td>\n",
       "      <td>Taxis &amp; Shuttles, Cultural Tours, Transportati...</td>\n",
       "      <td>Tour</td>\n",
       "    </tr>\n",
       "    <tr>\n",
       "      <th>11609</th>\n",
       "      <td>Historic Walking Tour Downtown Wilson</td>\n",
       "      <td>Walking Tours, Historical &amp; Heritage Tours, Tours</td>\n",
       "      <td>Tour</td>\n",
       "    </tr>\n",
       "    <tr>\n",
       "      <th>11711</th>\n",
       "      <td>Mongol Global Tour</td>\n",
       "      <td>Sightseeing Tours, Tours</td>\n",
       "      <td>Tour</td>\n",
       "    </tr>\n",
       "    <tr>\n",
       "      <th>11924</th>\n",
       "      <td>SculptureTour Salina</td>\n",
       "      <td>Art Galleries, Shopping, Museums</td>\n",
       "      <td>Museum</td>\n",
       "    </tr>\n",
       "    <tr>\n",
       "      <th>12103</th>\n",
       "      <td>KBC Tours Day Tours</td>\n",
       "      <td>Sightseeing Tours, Tours</td>\n",
       "      <td>Tour</td>\n",
       "    </tr>\n",
       "    <tr>\n",
       "      <th>12117</th>\n",
       "      <td>Tomorrow's Transport Segway Tours</td>\n",
       "      <td>Segway Tours, Tours</td>\n",
       "      <td>Tour</td>\n",
       "    </tr>\n",
       "    <tr>\n",
       "      <th>12770</th>\n",
       "      <td>Extraordinary Tour Services</td>\n",
       "      <td>City Tours, Private Tours, Food &amp; Drink, Tours...</td>\n",
       "      <td>Tour</td>\n",
       "    </tr>\n",
       "    <tr>\n",
       "      <th>12878</th>\n",
       "      <td>Danville Historical Society's Guided Walking Tour</td>\n",
       "      <td>Historical &amp; Heritage Tours, Tours</td>\n",
       "      <td>Tour</td>\n",
       "    </tr>\n",
       "    <tr>\n",
       "      <th>13170</th>\n",
       "      <td>Arizona ATV Adventure Tours</td>\n",
       "      <td>4WD, ATV &amp; Off-Road Tours, Outdoor Activities,...</td>\n",
       "      <td>Tour</td>\n",
       "    </tr>\n",
       "    <tr>\n",
       "      <th>13190</th>\n",
       "      <td>North Bay Winery Tours</td>\n",
       "      <td>Wine Tours &amp; Tastings, Food &amp; Drink, Tours</td>\n",
       "      <td>Tour</td>\n",
       "    </tr>\n",
       "    <tr>\n",
       "      <th>13193</th>\n",
       "      <td>Mr. Zin's Wine Tours - Tours</td>\n",
       "      <td>Wine Tours &amp; Tastings, Private Tours, Food &amp; D...</td>\n",
       "      <td>Tour</td>\n",
       "    </tr>\n",
       "    <tr>\n",
       "      <th>13373</th>\n",
       "      <td>Burleson Historical Ghost Tour</td>\n",
       "      <td>Ghost &amp; Vampire Tours, Tours</td>\n",
       "      <td>Tour</td>\n",
       "    </tr>\n",
       "    <tr>\n",
       "      <th>13390</th>\n",
       "      <td>Betsy &amp; Tacy's House Tours &amp; Gift Shop</td>\n",
       "      <td>History Museums, Museums</td>\n",
       "      <td>Museum</td>\n",
       "    </tr>\n",
       "    <tr>\n",
       "      <th>13464</th>\n",
       "      <td>Cedar Falls Tourism Center</td>\n",
       "      <td>Visitor Centers, Traveler Resources</td>\n",
       "      <td>VisotorCenter</td>\n",
       "    </tr>\n",
       "    <tr>\n",
       "      <th>13782</th>\n",
       "      <td>Valley Zipline Tours</td>\n",
       "      <td>Zipline &amp; Aerial Adventure Parks, Outdoor Acti...</td>\n",
       "      <td>Tour</td>\n",
       "    </tr>\n",
       "    <tr>\n",
       "      <th>14140</th>\n",
       "      <td>Chatt Glide Tours</td>\n",
       "      <td>Private Tours, Tours</td>\n",
       "      <td>Tour</td>\n",
       "    </tr>\n",
       "    <tr>\n",
       "      <th>14199</th>\n",
       "      <td>Diamond Jack's River Tours</td>\n",
       "      <td>River Rafting &amp; Tubing, Boat Tours &amp; Water Spo...</td>\n",
       "      <td>Tour</td>\n",
       "    </tr>\n",
       "    <tr>\n",
       "      <th>14232</th>\n",
       "      <td>Bay Area Adventure Tours</td>\n",
       "      <td>Sightseeing Tours, Tours</td>\n",
       "      <td>Tour</td>\n",
       "    </tr>\n",
       "    <tr>\n",
       "      <th>14249</th>\n",
       "      <td>Apache Trail Tours</td>\n",
       "      <td>Hiking &amp; Camping Tours, Tours, Outdoor Activities</td>\n",
       "      <td>Tour</td>\n",
       "    </tr>\n",
       "    <tr>\n",
       "      <th>14832</th>\n",
       "      <td>Big Bus Tours New York</td>\n",
       "      <td>City Tours, Sightseeing Tours, Tours, Hop-On H...</td>\n",
       "      <td>Tour</td>\n",
       "    </tr>\n",
       "    <tr>\n",
       "      <th>14842</th>\n",
       "      <td>Bretton Woods ATV Tour</td>\n",
       "      <td>4WD, ATV &amp; Off-Road Tours, Outdoor Activities,...</td>\n",
       "      <td>Tour</td>\n",
       "    </tr>\n",
       "    <tr>\n",
       "      <th>15133</th>\n",
       "      <td>Northwoods Outfitters - Day Tours</td>\n",
       "      <td>River Rafting &amp; Tubing, Fishing Charters &amp; Tou...</td>\n",
       "      <td>Tour</td>\n",
       "    </tr>\n",
       "    <tr>\n",
       "      <th>15376</th>\n",
       "      <td>Shore Trips &amp; Tours</td>\n",
       "      <td>Day Trips, Sightseeing Tours, Tours, Outdoor A...</td>\n",
       "      <td>Tour</td>\n",
       "    </tr>\n",
       "    <tr>\n",
       "      <th>15503</th>\n",
       "      <td>Montana Fly Fishing Guides - Day Tours</td>\n",
       "      <td>Fishing Charters &amp; Tours, Tours, Outdoor Activ...</td>\n",
       "      <td>Tour</td>\n",
       "    </tr>\n",
       "    <tr>\n",
       "      <th>16043</th>\n",
       "      <td>Extranomical Tours</td>\n",
       "      <td>City Tours, Day Trips, Food &amp; Drink, Tours, Pr...</td>\n",
       "      <td>Tour</td>\n",
       "    </tr>\n",
       "    <tr>\n",
       "      <th>16438</th>\n",
       "      <td>Reedham Ferry Touring Park</td>\n",
       "      <td>Nature &amp; Parks</td>\n",
       "      <td>StatePark</td>\n",
       "    </tr>\n",
       "  </tbody>\n",
       "</table>\n",
       "</div>"
      ],
      "text/plain": [
       "                                                    name  \\\n",
       "566                    Stranahan's Colorado Whiskey Tour   \n",
       "2186                 Scooters Sunday In-House Tournament   \n",
       "2188                            Mack's Fish Camp - Tours   \n",
       "5095                                    Miami Brew Tours   \n",
       "5422               NorCal Destinations Private Day Tours   \n",
       "5487                           Palm Bay Kayaks Eco Tours   \n",
       "5548                  Warner Bros. Studio Tour Hollywood   \n",
       "5803                           Lake Mirror Historic Tour   \n",
       "6006                     Celebrity Helicopters Day Tours   \n",
       "6168   Mercedes-Benz US International Visitor Center ...   \n",
       "6931   Suffolk Division of Tourism Great Dismal Swamp...   \n",
       "8184                                       AZ Jeep Tours   \n",
       "8246           Adventure West Motorcycle Tours Day Tours   \n",
       "8645                                      Tour 18 Dallas   \n",
       "9056   Middle Mountain Foundation Interpretive Progra...   \n",
       "9759                           Green Motion Segway Tours   \n",
       "10258                Historic Los Angeles Arboretum Tour   \n",
       "10302                                Farm Tours of Ocala   \n",
       "10394                    Vino 301 Wine Concierge - Tours   \n",
       "10422                        Good Times Travel Day Tours   \n",
       "10430                         Geo Savvy Tours- Day Tours   \n",
       "11083                       Rickshaw Rick's Tours & Taxi   \n",
       "11609              Historic Walking Tour Downtown Wilson   \n",
       "11711                                 Mongol Global Tour   \n",
       "11924                               SculptureTour Salina   \n",
       "12103                                KBC Tours Day Tours   \n",
       "12117                  Tomorrow's Transport Segway Tours   \n",
       "12770                        Extraordinary Tour Services   \n",
       "12878  Danville Historical Society's Guided Walking Tour   \n",
       "13170                        Arizona ATV Adventure Tours   \n",
       "13190                             North Bay Winery Tours   \n",
       "13193                       Mr. Zin's Wine Tours - Tours   \n",
       "13373                     Burleson Historical Ghost Tour   \n",
       "13390             Betsy & Tacy's House Tours & Gift Shop   \n",
       "13464                         Cedar Falls Tourism Center   \n",
       "13782                               Valley Zipline Tours   \n",
       "14140                                  Chatt Glide Tours   \n",
       "14199                         Diamond Jack's River Tours   \n",
       "14232                           Bay Area Adventure Tours   \n",
       "14249                                 Apache Trail Tours   \n",
       "14832                             Big Bus Tours New York   \n",
       "14842                             Bretton Woods ATV Tour   \n",
       "15133                  Northwoods Outfitters - Day Tours   \n",
       "15376                                Shore Trips & Tours   \n",
       "15503             Montana Fly Fishing Guides - Day Tours   \n",
       "16043                                 Extranomical Tours   \n",
       "16438                         Reedham Ferry Touring Park   \n",
       "\n",
       "                                                     tag       poi_type  \n",
       "566                           Distilleries, Food & Drink           Food  \n",
       "2186                             Bars & Clubs, Nightlife      Nightlife  \n",
       "2188   Eco Tours, Fishing Charters & Tours, Tours, Ou...           Tour  \n",
       "5095          Beer Tastings & Tours, Tours, Food & Drink           Tour  \n",
       "5422                                Private Tours, Tours           Tour  \n",
       "5487   Kayaking & Canoeing, Tours, Outdoor Activities...           Tour  \n",
       "5548                Theme Parks, Water & Amusement Parks      ThemePark  \n",
       "5803   Historic Walking Areas, Points of Interest & L...       Landmark  \n",
       "6006                             Helicopter Tours, Tours           Tour  \n",
       "6168                 Visitor Centers, Traveler Resources  VisotorCenter  \n",
       "6931   Nature & Wildlife Tours, Outdoor Activities, T...           Tour  \n",
       "8184   4WD, ATV & Off-Road Tours, Outdoor Activities,...           Tour  \n",
       "8246                             Motorcycle Tours, Tours           Tour  \n",
       "8645   Golf Courses, Sightseeing Tours, Outdoor Activ...           Tour  \n",
       "9056   Hiking & Camping Tours, Outdoor Activities, Tours           Tour  \n",
       "9759                                 Segway Tours, Tours           Tour  \n",
       "10258  Cultural Tours, Walking Tours, Tours, Historic...           Tour  \n",
       "10302                 Ranches, Farms, Sights & Landmarks       Landmark  \n",
       "10394  Wine Tours & Tastings, Private Tours, Food & D...           Tour  \n",
       "10422                               Private Tours, Tours           Tour  \n",
       "10430                           Sightseeing Tours, Tours           Tour  \n",
       "11083  Taxis & Shuttles, Cultural Tours, Transportati...           Tour  \n",
       "11609  Walking Tours, Historical & Heritage Tours, Tours           Tour  \n",
       "11711                           Sightseeing Tours, Tours           Tour  \n",
       "11924                   Art Galleries, Shopping, Museums         Museum  \n",
       "12103                           Sightseeing Tours, Tours           Tour  \n",
       "12117                                Segway Tours, Tours           Tour  \n",
       "12770  City Tours, Private Tours, Food & Drink, Tours...           Tour  \n",
       "12878                 Historical & Heritage Tours, Tours           Tour  \n",
       "13170  4WD, ATV & Off-Road Tours, Outdoor Activities,...           Tour  \n",
       "13190         Wine Tours & Tastings, Food & Drink, Tours           Tour  \n",
       "13193  Wine Tours & Tastings, Private Tours, Food & D...           Tour  \n",
       "13373                       Ghost & Vampire Tours, Tours           Tour  \n",
       "13390                           History Museums, Museums         Museum  \n",
       "13464                Visitor Centers, Traveler Resources  VisotorCenter  \n",
       "13782  Zipline & Aerial Adventure Parks, Outdoor Acti...           Tour  \n",
       "14140                               Private Tours, Tours           Tour  \n",
       "14199  River Rafting & Tubing, Boat Tours & Water Spo...           Tour  \n",
       "14232                           Sightseeing Tours, Tours           Tour  \n",
       "14249  Hiking & Camping Tours, Tours, Outdoor Activities           Tour  \n",
       "14832  City Tours, Sightseeing Tours, Tours, Hop-On H...           Tour  \n",
       "14842  4WD, ATV & Off-Road Tours, Outdoor Activities,...           Tour  \n",
       "15133  River Rafting & Tubing, Fishing Charters & Tou...           Tour  \n",
       "15376  Day Trips, Sightseeing Tours, Tours, Outdoor A...           Tour  \n",
       "15503  Fishing Charters & Tours, Tours, Outdoor Activ...           Tour  \n",
       "16043  City Tours, Day Trips, Food & Drink, Tours, Pr...           Tour  \n",
       "16438                                     Nature & Parks      StatePark  "
      ]
     },
     "execution_count": 97,
     "metadata": {},
     "output_type": "execute_result"
    }
   ],
   "source": [
    "poi[poi.name.str.contains('Tour')][['name','tag','poi_type']]"
   ]
  },
  {
   "cell_type": "code",
   "execution_count": 7,
   "metadata": {
    "collapsed": false
   },
   "outputs": [],
   "source": [
    "# for i in poi.img_url[0:2]:\n",
    "#     print i\n",
    "poi[\"img_url\"] = 0"
   ]
  },
  {
   "cell_type": "code",
   "execution_count": 9,
   "metadata": {
    "collapsed": false
   },
   "outputs": [
    {
     "name": "stdout",
     "output_type": "stream",
     "text": [
      "already finish 0 images\n",
      "already finish 100 images\n",
      "already finish 200 images\n",
      "already finish 300 images\n",
      "already finish 400 images\n",
      "already finish 500 images\n",
      "already finish 600 images\n",
      "already finish 700 images\n",
      "already finish 800 images\n",
      "already finish 900 images\n",
      "already finish 1000 images\n",
      "already finish 1100 images\n",
      "already finish 1200 images\n",
      "already finish 1300 images\n",
      "already finish 1400 images\n",
      "already finish 1500 images\n",
      "already finish 1600 images\n",
      "already finish 1700 images\n",
      "already finish 1800 images\n",
      "already finish 1900 images\n",
      "already finish 2000 images\n",
      "already finish 2100 images\n",
      "already finish 2200 images\n",
      "already finish 2300 images\n",
      "already finish 2400 images\n",
      "already finish 2500 images\n",
      "already finish 2600 images\n",
      "already finish 2700 images\n",
      "already finish 2800 images\n",
      "already finish 2900 images\n",
      "already finish 3000 images\n",
      "already finish 3100 images\n",
      "already finish 3200 images\n",
      "already finish 3300 images\n",
      "already finish 3400 images\n",
      "already finish 3500 images\n",
      "already finish 3600 images\n",
      "already finish 3700 images\n",
      "already finish 3800 images\n",
      "already finish 3900 images\n",
      "already finish 4000 images\n",
      "already finish 4100 images\n",
      "already finish 4200 images\n",
      "already finish 4300 images\n",
      "already finish 4400 images\n",
      "already finish 4500 images\n",
      "already finish 4600 images\n",
      "already finish 4700 images\n",
      "already finish 4800 images\n",
      "already finish 4900 images\n",
      "already finish 5000 images\n",
      "already finish 5100 images\n",
      "already finish 5200 images\n",
      "already finish 5300 images\n",
      "already finish 5400 images\n",
      "already finish 5500 images\n",
      "already finish 5600 images\n",
      "already finish 5700 images\n",
      "already finish 5800 images\n",
      "already finish 5900 images\n",
      "already finish 6000 images\n",
      "already finish 6100 images\n",
      "already finish 6200 images\n",
      "already finish 6300 images\n",
      "already finish 6400 images\n",
      "already finish 6500 images\n",
      "already finish 6600 images\n",
      "already finish 6700 images\n",
      "already finish 6800 images\n",
      "already finish 6900 images\n",
      "already finish 7000 images\n",
      "already finish 7100 images\n",
      "already finish 7200 images\n",
      "already finish 7300 images\n",
      "already finish 7400 images\n",
      "already finish 7500 images\n",
      "already finish 7600 images\n",
      "already finish 7700 images\n",
      "already finish 7800 images\n",
      "already finish 7900 images\n",
      "already finish 8000 images\n",
      "already finish 8100 images\n",
      "already finish 8200 images\n",
      "already finish 8300 images\n",
      "already finish 8400 images\n",
      "already finish 8500 images\n",
      "already finish 8600 images\n",
      "already finish 8700 images\n",
      "already finish 8800 images\n",
      "already finish 8900 images\n",
      "already finish 9000 images\n",
      "already finish 9100 images\n",
      "already finish 9200 images\n",
      "already finish 9300 images\n",
      "already finish 9400 images\n",
      "already finish 9500 images\n",
      "already finish 9600 images\n",
      "already finish 9700 images\n",
      "already finish 9800 images\n",
      "already finish 9900 images\n",
      "already finish 10000 images\n",
      "already finish 10100 images\n",
      "already finish 10200 images\n",
      "already finish 10300 images\n",
      "already finish 10400 images\n",
      "already finish 10500 images\n",
      "already finish 10600 images\n",
      "already finish 10700 images\n",
      "already finish 10800 images\n",
      "already finish 10900 images\n",
      "already finish 11000 images\n",
      "already finish 11100 images\n",
      "already finish 11200 images\n",
      "already finish 11300 images\n",
      "already finish 11400 images\n",
      "already finish 11500 images\n",
      "already finish 11600 images\n",
      "already finish 11700 images\n",
      "already finish 11800 images\n",
      "already finish 11900 images\n",
      "already finish 12000 images\n",
      "already finish 12100 images\n",
      "already finish 12200 images\n",
      "already finish 12300 images\n",
      "already finish 12400 images\n",
      "already finish 12500 images\n",
      "already finish 12600 images\n",
      "already finish 12700 images\n",
      "already finish 12800 images\n",
      "already finish 12900 images\n",
      "already finish 13000 images\n",
      "already finish 13100 images\n",
      "already finish 13200 images\n",
      "already finish 13300 images\n",
      "already finish 13400 images\n",
      "already finish 13500 images\n",
      "already finish 13600 images\n",
      "already finish 13700 images\n",
      "already finish 13800 images\n",
      "already finish 13900 images\n",
      "already finish 14000 images\n",
      "already finish 14100 images\n",
      "already finish 14200 images\n",
      "already finish 14300 images\n",
      "already finish 14400 images\n",
      "already finish 14500 images\n",
      "already finish 14600 images\n",
      "already finish 14700 images\n",
      "already finish 14800 images\n",
      "already finish 14900 images\n",
      "already finish 15000 images\n",
      "already finish 15100 images\n",
      "already finish 15200 images\n",
      "already finish 15300 images\n",
      "already finish 15400 images\n",
      "already finish 15500 images\n",
      "already finish 15600 images\n",
      "already finish 15700 images\n",
      "already finish 15800 images\n",
      "already finish 15900 images\n",
      "already finish 16000 images\n",
      "already finish 16100 images\n",
      "already finish 16200 images\n",
      "already finish 16300 images\n",
      "already finish 16400 images\n",
      "already finish 16500 images\n",
      "already finish 16600 images\n"
     ]
    }
   ],
   "source": [
    "for i in poi.index:\n",
    "    \n",
    "    poi[\"img_url\"].loc[int(i)] = \"https://s3.amazonaws.com/travel-with-friends/img_file/\"+ str(i) + \".jpg\"\n",
    "    if i%100 ==0:\n",
    "        print(\"already finish \" + str(i) +\" images\")"
   ]
  },
  {
   "cell_type": "code",
   "execution_count": 4,
   "metadata": {
    "collapsed": false
   },
   "outputs": [
    {
     "name": "stdout",
     "output_type": "stream",
     "text": [
      "0\n",
      "1\n"
     ]
    }
   ],
   "source": [
    "for i in poi.index[0:2]:\n",
    "    print str(i)"
   ]
  },
  {
   "cell_type": "code",
   "execution_count": null,
   "metadata": {
    "collapsed": false
   },
   "outputs": [],
   "source": [
    "def outside_trip_poi(origin_city, origin_state, target_direction = 'N', n_days = 1, \\\n",
    "                    full_day = True, regular = True, debug = True, user_id = 'admin'):\n",
    "    outside_trip_id = '-'.join([str(origin_state.upper().replace(' ','-')), str(origin_city.upper().replace(' ','-')), \\\n",
    "                        target_direction,str(int(regular)), str(n_days)])\n",
    "    if not check_outside_trip_id(outside_trip_id, debug):\n",
    "        furthest_len = 140\n",
    "        if n_days == 1:\n",
    "            furthest_len = 140\n",
    "        #possible city coords, target city coord_lat, target city coord_long\n",
    "        # city_id, coords, coord_lat, coord_long = travel_outside_coords(origin_city, origin_state)\n",
    "        #coords: city, lat, long\n",
    "        # check_cities_info = []\n",
    "        # for item in coords:\n",
    "        #     direction = direction_from_orgin(coord_long,  coord_lat, item[2], item[1])\n",
    "        #     if (target_direction == direction) and (geopy_dist((item[1], item[2]), (coord_lat, coord_long)) < furthest_len):\n",
    "        #         check_cities_info.append(item)\n",
    "        # city_infos = []\n",
    "        # for city, _, _ in check_cities_info:\n",
    "        #     county = None\n",
    "        #     #index, coord0, coord1, adjusted_normal_time_spent, poi_rank, rating\n",
    "        #     city_info = db_start_location(county, origin_state, city)\n",
    "        #     city_infos.extend(city_info)\n",
    "        city_id, coord_lat, coord_long, city_infos = travel_outside_with_direction(origin_city, origin_state, target_direction, furthest_len, n_days=1)\n",
    "        if len(city_infos)<=0:\n",
    "            username_id = 1\n",
    "            conn = psycopg2.connect(conn_str)\n",
    "            cur = conn.cursor()\n",
    "            cur.execute('SELECT MAX(index) from outside_trip_table;')\n",
    "            new_index = cur.fetchone()[0] +1\n",
    "            cur.execute(\"INSERT into outside_trip_table(index, username_id, outside_trip_id, outside_route_ids, event_id_lst, origin_city, origin_state, target_direction, n_routes, regular, full_day, details) \\\n",
    "                         VALUES (%s,'%s', '%s', '%s','%s', '%s', '%s', '%s', %s,%s,%s,'%s');\" \\\n",
    "                         %(new_index, username_id, outside_trip_id, '[]', '[]', origin_city, origin_state, target_direction, 0, regular, full_day, '[]'))\n",
    "            conn.commit()\n",
    "            conn.close()\n",
    "            print \"finish update None for %s, %s, direction %s into database\" %(origin_state, origin_city, target_direction)\n",
    "            return None\n",
    "        # city_infos = np.array(city_infos)\n",
    "        poi_coords = city_infos[:,1:3]\n",
    "        n_routes = sum(1 for t in np.array(city_infos)[:,3] if t >= 120)/10\n",
    "        if (n_routes>1) and (city_infos.shape[0]>=10):\n",
    "            kmeans = KMeans(n_clusters=n_routes).fit(poi_coords)\n",
    "        elif (city_infos.shape[0]> 20) or (n_routes>1):\n",
    "            kmeans = KMeans(n_clusters=2).fit(poi_coords)\n",
    "        else:\n",
    "            kmeans = KMeans(n_clusters=1).fit(poi_coords)\n",
    "        route_labels = kmeans.labels_\n",
    "        # print n_routes, len(route_labels), city_infos.shape\n",
    "        # print route_labels\n",
    "        outside_route_ids, outside_trip_details,event_id_lst ,details_theme =[],[],[],[]\n",
    "        for i in range(n_routes):\n",
    "            current_events, big_ix, med_ix, small_ix = [], [],[], []\n",
    "            for ix, label in enumerate(route_labels):\n",
    "                if label == i:\n",
    "                    time = city_infos[ix,3]\n",
    "                    event_ix = city_infos[ix,0]\n",
    "                    current_events.append(event_ix)\n",
    "                    if time > 180 :\n",
    "                        big_ix.append(ix)\n",
    "                    elif time >= 120 :\n",
    "                        med_ix.append(ix)\n",
    "                    else:\n",
    "                        small_ix.append(ix)\n",
    "            big_ = sorted_outside_events(city_infos, big_ix)\n",
    "            med_ = sorted_outside_events(city_infos, med_ix)\n",
    "            small_ = sorted_outside_events(city_infos, small_ix)\n",
    "            # need to update!!!!!!!!\n",
    "            event_ids, event_type = create_outside_event_id_list(big_, med_, small_)\n",
    "            event_ids, event_type = db_outside_event_cloest_distance(coord_lat, coord_long, event_ids = event_ids, event_type = event_type)\n",
    "            event_ids, google_ids, name_list, driving_time_list, walking_time_list =db_outside_google_driving_walking_time(city_id, coord_lat,coord_long, event_ids, event_type, origin_city = origin_city, origin_state = origin_state)\n",
    "            #why bug????\n",
    "            event_ids, driving_time_list, walking_time_list, total_time_spent = db_remove_outside_extra_events(event_ids, driving_time_list, walking_time_list)\n",
    "            outside_route_id = outside_trip_id + '-'+str(i)\n",
    "#             values = db_outside_route_trip_details(outside_route_id, event_ids, origin_city, origin_state, regular, full_day,n_days,i)\n",
    "            if check_outside_route_id(outside_route_id):\n",
    "                conn = psycopg2.connect(conn_str)\n",
    "                cur = conn.cursor()\n",
    "                cur.execute('DELETE FROM outside_route_table WHERE outside_route_id = %s;' %(outside_route_id))\n",
    "                conn.commit()\n",
    "                conn.close()\n",
    "                \n",
    "            details = db_outside_route_trip_details(event_ids,i)\n",
    "#             conn = psycopg2.connect(conn_str)\n",
    "#             cur = conn.cursor()\n",
    "#             cur.execute('select max(index) from outside_route_table;')\n",
    "#             new_index = cur.fetchone()[0] + 1\n",
    "#             cur.execute(\"insert into outside_route_table (index, outside_route_id, full_day, regular, origin_city, origin_state, target_direction, details, event_type, event_ids, route_num) \\\n",
    "#                         VALUES (%s, '%s', %s, %s, '%s', '%s', '%s', '%s', '%s', '%s', %s);\" \\\n",
    "#                         %(new_index, outside_route_id, full_day, regular, origin_city, origin_state, target_direction, str(details).replace(\"'\",\"''\"), event_type, str(event_ids) , i))\n",
    "#             conn.commit()\n",
    "#             conn.close()\n",
    "            details = db_outside_route_trip_details(event_ids,i)\n",
    "\n",
    "            route_theme = assign_theme(details)\n",
    "            info = [outside_route_id, full_day, regular, origin_city, origin_state, target_direction, str(details).replace(\"'\",\"''\"), event_type, str(event_ids) , i, route_theme[0]]\n",
    "            route_theme.extend(info)\n",
    "            \n",
    "            details_theme.append(route_theme)\n",
    "#             outside_route_ids.append(outside_route_id)\n",
    "            # outside_trip_details.extend(details)\n",
    "#             event_id_lst.extend(event_ids)\n",
    "        return details_theme\n",
    "        info_to_psql = clean_details(details_theme)\n",
    "        return info_to_psql\n",
    "#         username_id = 1\n",
    "# #         conn = psycopg2.connect(conn_str)\n",
    "# #         cur = conn.cursor()\n",
    "# #         cur.execute('SELECT MAX(index) from outside_trip_table;')\n",
    "# #         new_index = cur.fetchone()[0] +1\n",
    "# #         cur.execute(\"INSERT into outside_trip_table(index, username_id, outside_trip_id, outside_route_ids, event_id_lst, origin_city, origin_state, target_direction, n_routes, regular, full_day, details) \\\n",
    "# #                      VALUES (%s,'%s', '%s', '%s','%s', '%s', '%s', '%s', %s,%s,%s,'%s');\" \\\n",
    "# #                      %(new_index, username_id, outside_trip_id, str(outside_route_ids).replace(\"'\",\"''\"), str(event_id_lst), origin_city, origin_state, target_direction, n_routes, regular, full_day, str(outside_trip_details).replace(\"'\",\"''\")))\n",
    "# #         conn.commit()\n",
    "# #         conn.close()\n",
    "#         print \"finish update %s, %s, direction %s into database\" %(origin_state, origin_city, target_direction)\n",
    "#         return outside_trip_id, outside_trip_details\n",
    "#     else:\n",
    "#         print \"ALERT: %s, %s, direction %s already in database\" %(origin_state, origin_city, target_direction)\n",
    "#         conn = psycopg2.connect(conn_str)\n",
    "#         cur = conn.cursor()\n",
    "#         cur.execute(\"SELECT DISTINCT outside_trip_id, details FROM outside_trip_table WHERE outside_trip_id = '%s';\" %(outside_trip_id))\n",
    "#         outside_trip_id, details = cur.fetchone()\n",
    "#         details = ast.literal_eval(details)\n",
    "#         conn.close()\n",
    "#         return outside_trip_id, details"
   ]
  },
  {
   "cell_type": "code",
   "execution_count": null,
   "metadata": {
    "collapsed": false
   },
   "outputs": [],
   "source": [
    "import pprint\n",
    "import numpy as np\n",
    "from distance import *\n",
    "from outside_helpers import *"
   ]
  },
  {
   "cell_type": "code",
   "execution_count": null,
   "metadata": {
    "collapsed": false
   },
   "outputs": [],
   "source": [
    "direct = [\"E\",\"S\",\"W\",\"N\"]\n",
    "target_direction = direct[1]\n",
    "origin_city = 'San Francisco'\n",
    "origin_state = 'California'\n",
    "print origin_city, origin_state\n",
    "\n",
    "details= outside_trip_poi(origin_city,origin_state, target_direction)"
   ]
  },
  {
   "cell_type": "code",
   "execution_count": null,
   "metadata": {
    "collapsed": false
   },
   "outputs": [],
   "source": [
    "details"
   ]
  },
  {
   "cell_type": "code",
   "execution_count": null,
   "metadata": {
    "collapsed": false
   },
   "outputs": [],
   "source": [
    "# details_array= np.array(details)\n",
    "\n",
    "details_array[:,[1,3]] = details_array[:,[1,3]].astype(np.float)\n",
    "details_array[:,2].astype(np.int)\n"
   ]
  },
  {
   "cell_type": "code",
   "execution_count": null,
   "metadata": {
    "collapsed": false
   },
   "outputs": [],
   "source": [
    "details_array= np.array(details)\n",
    "\n",
    "final = []\n",
    "used =[]\n",
    "for count, i, in enumerate(details_array):\n",
    "    if (i[0] == \"national_park\") or (i[0] == \"theme_park\"):\n",
    "        final.append(i[4])\n",
    "        used.append(count)\n",
    "details_array = np.delete(details_array, used, axis = 0)\n",
    "a= np.array(sorted(details_array, key=lambda x: (x[2].astype(np.int), -x[1].astype(np.float), x[3].astype(np.float))))\n",
    "\n",
    "theme_select_dict={}\n",
    "backup =[]\n",
    "# a[:,0:4]\n",
    "for count, i in enumerate(a):\n",
    "    if i[0] not in theme_select_dict:\n",
    "        theme_select_dict[i[0]] = 1\n",
    "        final.append(i[4:])\n",
    "    else:\n",
    "        backup.extend(i[4:])"
   ]
  },
  {
   "cell_type": "code",
   "execution_count": null,
   "metadata": {
    "collapsed": false
   },
   "outputs": [],
   "source": [
    "final"
   ]
  },
  {
   "cell_type": "code",
   "execution_count": null,
   "metadata": {
    "collapsed": false
   },
   "outputs": [],
   "source": [
    "def clean_details(details_theme):\n",
    "    details_array= np.array(details_theme)\n",
    "    final = []\n",
    "    used =[]\n",
    "    for count, i, in enumerate(details_array):  \n",
    "        if (i[0] == \"national_park\") or (i[0] == \"theme_park\"):  #select all national park & theme park \n",
    "            final.extend(i[4]) #save all details together\n",
    "            used.append(count) #save the count of those park\n",
    "    details_array = np.delete(details_array, used, axis = 0)  #remove them from array\n",
    "    a= np.array(sorted(details_array, key=lambda x: (x[2], -x[1], -x[3] ))) #sorted the item base on ranking, num_review, review_score\n",
    "    \n",
    "    theme_select_dict={}\n",
    "    backup =[]\n",
    "    # a[:,0:4]\n",
    "    for count, i in enumerate(a):\n",
    "        if i[0] not in theme_select_dict:\n",
    "            theme_select_dict[i[0]] = 1 #use dict to check for only one of each theme is choose\n",
    "            final.extend(i[4])\n",
    "        else:\n",
    "            backup.extend(i[4]) #backup for those didnt use \n",
    "    return final"
   ]
  },
  {
   "cell_type": "code",
   "execution_count": null,
   "metadata": {
    "collapsed": false
   },
   "outputs": [],
   "source": []
  },
  {
   "cell_type": "code",
   "execution_count": null,
   "metadata": {
    "collapsed": false
   },
   "outputs": [],
   "source": [
    "def assign_theme(details):\n",
    "    assign_dict={\"family\" : 0,\"lifestyle\": 0,\"nature\": 0,\"cultural\": 0,\"theme_park\": 0,\"national_park\": 0,\"other_list\": 0}\n",
    "    \n",
    "    assign_dict2={\"family\" : 0,\"lifestyle\": 0,\"nature\": 0,\"cultural\": 0,\"theme_park\": 0,\"national_park\": 0,\"other_list\": 0}\n",
    "    \n",
    "    assign_dict3={\"family\" : -1,\"lifestyle\": -1,\"nature\": -1,\"cultural\": -1,\"theme_park\": -1,\"national_park\": -1,\"other_list\": -1}\n",
    "\n",
    "    #create a list for each poi\n",
    "    all_type=[]\n",
    "    for i in details:\n",
    "        all_type.append([i[\"poi_type\"],i[\"adjusted_visit_length\"], i[\"num_reviews\"], i[\"ranking\"]])\n",
    "\n",
    "    for i in all_type:\n",
    "        for key, value in theme_list_dict.items():\n",
    "            if i[0] in value: #locate the theme \n",
    "                assign_dict[key] += int(i[1]) #total time of theme\n",
    "                assign_dict2[key] += int(i[2]) #total # of review of theme\n",
    "                if assign_dict3[key] <0:\n",
    "                    assign_dict3[key] = int(i[3])\n",
    "                else:\n",
    "                    assign_dict3[key] = min(assign_dict3[key], int(i[3]))\n",
    "    assign_dict = sort_dict(assign_dict) #order descending \n",
    "    \n",
    "    if assign_dict[0][0] == assign_dict[1][0]: #check if the total time is same \n",
    "        if assign_dict2[assign_dict[0][1]] > assign_dict2[assign_dict[1][1]]:  #check number of review\n",
    "            return assign_dict[0][1]\n",
    "        elif assign_dict2[assign_dict[0][1]] < assign_dict2[assign_dict[1][1]]:\n",
    "            return assign_dict[1][1]\n",
    "        elif assign_dict3[assign_dict[0][1]] < assign_dict3[assign_dict[1][1]]: #check for ranking\n",
    "            return assign_dict[0][1]\n",
    "        else:\n",
    "            return assign_dict[1][1]\n",
    "\n",
    "            \n",
    "    return assign_dict[0][1]\n"
   ]
  },
  {
   "cell_type": "code",
   "execution_count": null,
   "metadata": {
    "collapsed": true
   },
   "outputs": [],
   "source": []
  },
  {
   "cell_type": "code",
   "execution_count": null,
   "metadata": {
    "collapsed": true
   },
   "outputs": [],
   "source": [
    "def sort_dict(input_dict):\n",
    "\ttemp_dict = [(input_dict[key], key) for key in input_dict]\n",
    "\ttemp_dict.sort(reverse = True)\n",
    "\treturn temp_dict"
   ]
  },
  {
   "cell_type": "code",
   "execution_count": null,
   "metadata": {
    "collapsed": false
   },
   "outputs": [],
   "source": [
    "print assign_theme(details)"
   ]
  },
  {
   "cell_type": "code",
   "execution_count": null,
   "metadata": {
    "collapsed": false
   },
   "outputs": [],
   "source": [
    "theme_list_dict = {\n",
    "    \"family\" : [\"Park\",\"Zoo\",\"Game\"],\n",
    "    \"lifestyle\" : [\"Nightlife\",\"Shopping\",\"Theater\",\"Food\",\"Spa\",\"Casino\",\"Show\",\"ShoppingMall\",\"Show\"],\n",
    "    \"nature\" : [\"StatePark\",\"NationalWildlifeRefuge\",\"NationalHistoricalPark\",\"NationalForest\",\"NationalMonument\",\"NationalMemorial\"],\n",
    "    \"cultural\" : [\"Landmark\", \"Museum\",\"OutdoorActivities\",\"Library\",\"Stadium\"],\n",
    "    \"theme_park\" : [\"ThemePark\"],\n",
    "    \"national_park\" : [\"NationalPark\"],\n",
    "    \"other_list\" : [\"Other\",\"VisotorCenter\",\"Transportation\",\"Tour\"]\n",
    "    }"
   ]
  },
  {
   "cell_type": "code",
   "execution_count": null,
   "metadata": {
    "collapsed": false
   },
   "outputs": [],
   "source": [
    "museum =300\n",
    "theater =60\n",
    "landmark = 60\n",
    "visitorCenter =15"
   ]
  },
  {
   "cell_type": "code",
   "execution_count": null,
   "metadata": {
    "collapsed": true
   },
   "outputs": [],
   "source": [
    "theme={}\n",
    "theme_list = [\"family\",\"lifestyle\",\"nature\",\"cultural\",\"theme_park\",\"national_park\"]\n",
    "for i in theme_list:\n",
    "    theme[i]= 0"
   ]
  },
  {
   "cell_type": "code",
   "execution_count": null,
   "metadata": {
    "collapsed": false
   },
   "outputs": [],
   "source": [
    "poi = pd.read_csv(\"poi_detail_table_final_v1.csv\", encoding=('utf-8'), index_col= 0)"
   ]
  },
  {
   "cell_type": "code",
   "execution_count": null,
   "metadata": {
    "collapsed": false
   },
   "outputs": [],
   "source": [
    "poi_type_u= set(poi.poi_type.str.encode('utf8'))\n",
    "poi_type= list(poi.poi_type.str.encode('utf8'))\n"
   ]
  },
  {
   "cell_type": "code",
   "execution_count": null,
   "metadata": {
    "collapsed": false
   },
   "outputs": [],
   "source": [
    "from collections import Counter\n",
    "counts = Counter(poi_type)\n",
    "add = 0\n",
    "for i in counts.items():\n",
    "    add += i[1]\n",
    "print add\n",
    "# print counts.items()[0][1]"
   ]
  },
  {
   "cell_type": "code",
   "execution_count": null,
   "metadata": {
    "collapsed": false
   },
   "outputs": [],
   "source": [
    "# d = {'key': 'value'}\n",
    "# word_count_dict = {}\n",
    "# for key, values in d.items():\n",
    "#     if values[1] in temp_dict:\n",
    "#         temp_dict[values[1]] = temp_dict[values[1]] + 1\n",
    "#     else:\n",
    "#         temp_dict[values[1]] = 1"
   ]
  },
  {
   "cell_type": "code",
   "execution_count": null,
   "metadata": {
    "collapsed": false
   },
   "outputs": [],
   "source": [
    "# from collections import defaultdict\n",
    "# d = defaultdict(int)\n",
    "\n",
    "# for word in poi_type:\n",
    "#     d[word] += 1\n"
   ]
  },
  {
   "cell_type": "code",
   "execution_count": null,
   "metadata": {
    "collapsed": false
   },
   "outputs": [],
   "source": [
    "poi_type_dict={}\n",
    "for i in poi_type_u:\n",
    "    poi_type_dict[i] = poi_type.count(i)"
   ]
  },
  {
   "cell_type": "code",
   "execution_count": null,
   "metadata": {
    "collapsed": false
   },
   "outputs": [],
   "source": [
    "def sortFreqDict(freqdict):\n",
    "    aux = [(freqdict[key], key) for key in freqdict]\n",
    "    aux.sort(reverse=True)\n",
    "#     aux.reverse()\n",
    "    return aux"
   ]
  },
  {
   "cell_type": "code",
   "execution_count": null,
   "metadata": {
    "collapsed": false
   },
   "outputs": [],
   "source": [
    "sortFreqDict(poi_type_dict)"
   ]
  },
  {
   "cell_type": "code",
   "execution_count": null,
   "metadata": {
    "collapsed": false
   },
   "outputs": [],
   "source": [
    "poi[poi.poi_type == \"NationalHistoricalPark\"].name"
   ]
  },
  {
   "cell_type": "code",
   "execution_count": null,
   "metadata": {
    "collapsed": false
   },
   "outputs": [],
   "source": []
  },
  {
   "cell_type": "code",
   "execution_count": null,
   "metadata": {
    "collapsed": false
   },
   "outputs": [],
   "source": [
    "poi.info()"
   ]
  },
  {
   "cell_type": "code",
   "execution_count": null,
   "metadata": {
    "collapsed": false
   },
   "outputs": [],
   "source": [
    "# conn_str = \"dbname='travel_with_friends' user='Gon' host='localhost'\"\n",
    "with open('api_key_list.config') as key_file:\n",
    "    api_key_list = json.load(key_file)\n",
    "conn_str = api_key_list[\"conn_str\"]\n",
    "engine_str = api_key_list[\"engine\"]\n",
    "engine = create_engine(engine_str)"
   ]
  },
  {
   "cell_type": "code",
   "execution_count": null,
   "metadata": {
    "collapsed": false
   },
   "outputs": [],
   "source": [
    "# import psycopg2\n",
    "# conn = psycopg2.connect(conn_str)   \n",
    "# cur = conn.cursor()\n",
    "# poi.to_sql('poi_detail_table_final_v1',engine, index=True, if_exists = \"replace\")\n",
    "# conn.close"
   ]
  },
  {
   "cell_type": "code",
   "execution_count": null,
   "metadata": {
    "collapsed": false
   },
   "outputs": [],
   "source": [
    "a= [1.5,2,3,4,5.5,[\"hel\"]]\n"
   ]
  },
  {
   "cell_type": "code",
   "execution_count": null,
   "metadata": {
    "collapsed": true
   },
   "outputs": [],
   "source": [
    "\n",
    "a= np.array(a)"
   ]
  },
  {
   "cell_type": "code",
   "execution_count": null,
   "metadata": {
    "collapsed": false
   },
   "outputs": [],
   "source": [
    "a[[0,4,5]]"
   ]
  },
  {
   "cell_type": "code",
   "execution_count": 17,
   "metadata": {
    "collapsed": false
   },
   "outputs": [
    {
     "name": "stdout",
     "output_type": "stream",
     "text": [
      "Ca <type 'unicode'>\n",
      "California <type 'str'>\n"
     ]
    }
   ],
   "source": [
    "import helpers\n",
    "from us_state_abbrevation import *\n",
    "\n",
    "def check_state(origin_state):\n",
    "    if not helpers.check_valid_state(origin_state):\n",
    "        origin_state = abb2state[str(origin_state).upper()]\n",
    "    return origin_state\n",
    "state = u'Ca'\n",
    "print state, type(state)\n",
    "state = check_state(state)\n",
    "print state, type(state)"
   ]
  },
  {
   "cell_type": "code",
   "execution_count": 269,
   "metadata": {
    "collapsed": true
   },
   "outputs": [],
   "source": [
    "dict1 = {'first':'hello', 'second':'world'}\n",
    "dict2 = dict1 # pointer assignation mechanism\n",
    "dict1['first'] = 'bye2'"
   ]
  },
  {
   "cell_type": "code",
   "execution_count": 270,
   "metadata": {
    "collapsed": false
   },
   "outputs": [
    {
     "data": {
      "text/plain": [
       "{'first': 'bye2', 'second': 'world'}"
      ]
     },
     "execution_count": 270,
     "metadata": {},
     "output_type": "execute_result"
    }
   ],
   "source": [
    "dict2"
   ]
  },
  {
   "cell_type": "code",
   "execution_count": 268,
   "metadata": {
    "collapsed": false
   },
   "outputs": [
    {
     "data": {
      "text/plain": [
       "1"
      ]
     },
     "execution_count": 268,
     "metadata": {},
     "output_type": "execute_result"
    }
   ],
   "source": [
    "a=1\n",
    "b=a\n",
    "a=2\n",
    "b"
   ]
  },
  {
   "cell_type": "code",
   "execution_count": null,
   "metadata": {
    "collapsed": true
   },
   "outputs": [],
   "source": []
  }
 ],
 "metadata": {
  "anaconda-cloud": {},
  "kernelspec": {
   "display_name": "Python [conda env:python2]",
   "language": "python",
   "name": "conda-env-python2-py"
  },
  "language_info": {
   "codemirror_mode": {
    "name": "ipython",
    "version": 2
   },
   "file_extension": ".py",
   "mimetype": "text/x-python",
   "name": "python",
   "nbconvert_exporter": "python",
   "pygments_lexer": "ipython2",
   "version": "2.7.12"
  }
 },
 "nbformat": 4,
 "nbformat_minor": 1
}
